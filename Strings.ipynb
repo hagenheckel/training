{
 "cells": [
  {
   "cell_type": "markdown",
   "metadata": {},
   "source": [
    "# Strings\n",
    "\n",
    "Ein String (Zeichenkette) ist ein sequentieller Datentyp, also eine Art von Liste, deren Elemente einzelne Zeichen sind.  "
   ]
  },
  {
   "cell_type": "markdown",
   "metadata": {},
   "source": [
    "## Lernziele\n",
    "\n",
    "<ul>\n",
    "    <li>Sting-Literale vereinbaren</li>\n",
    "    <li>Mit Escape-Sequenzen umgehen</li>\n",
    "    <li>Die print()-Funktion verwenden</li>\n",
    "    <li>Strings formatieren</li>\n",
    "</ul>"
   ]
  },
  {
   "cell_type": "markdown",
   "metadata": {},
   "source": [
    "## Vereinbaren von String-Literalen\n",
    "\n",
    "In Python kann man, wie in anderen Programmiersprachen auch, Strings erzeugen, indem man die gewünschte Zeichenfolge in Hochkommas setzt. Dabei macht es keinen Unterschied ob man einfache Hochkommas ' oder doppelte Anführungszeichen \" verwendet."
   ]
  },
  {
   "cell_type": "code",
   "execution_count": null,
   "metadata": {},
   "outputs": [],
   "source": [
    "string_1 = 'Dieser String wurde mit einzelnen Hochkommas definiert'\n",
    "string_2 = \"Dieser String mit doppelten Anführungszeichen\"\n",
    "string_3 = \"\\\"...und dieser String steht in Anführungszeichen\\\"\"\n",
    "print(string_1)\n",
    "print(string_2)\n",
    "print(string_3)"
   ]
  },
  {
   "cell_type": "markdown",
   "metadata": {},
   "source": [
    "Manchmal passt der String den man definieren möchte nicht in eine Zeile, dann kann man den String mit einem Backslash \\ über mehrere Zeilen verteilen."
   ]
  },
  {
   "cell_type": "code",
   "execution_count": null,
   "metadata": {},
   "outputs": [],
   "source": [
    "langer_string = \"Ich bin ein sehr langer String, der \\\n",
    "nicht in eine Zeile passt\"\n",
    "print(langer_string)"
   ]
  },
  {
   "cell_type": "markdown",
   "metadata": {},
   "source": [
    "## Escape-Sequenzen\n",
    "\n",
    "Im obigen Beispiel bei <tt>string_3</tt> haben Sie gesehen, daß man das Anführungszeichen auch als Teil des Strings verwenden kann. Um dem Python-Interpreter dies mitzuteilen, setzt man einen Backslash \\ davor. Zeichen mit einer besonderen Bedeutung werden oft so erzeugt - man nennt sie Escape-Sequenzen."
   ]
  },
  {
   "cell_type": "code",
   "execution_count": null,
   "metadata": {},
   "outputs": [],
   "source": [
    "print('Erste Zeile\\nZweite Zeile')   # \\n ist die Escape-Sequenz für einen Zeilenumbruch"
   ]
  },
  {
   "cell_type": "code",
   "execution_count": null,
   "metadata": {},
   "outputs": [],
   "source": [
    "print('vorne\\thinten')    # \\t horizontaler Tabulator\n",
    "print('vorne\\t\\t\\t\\tganz hinten')"
   ]
  },
  {
   "cell_type": "markdown",
   "metadata": {},
   "source": [
    "Auch verschiedene Farben kann man mit den entsprechenden Escape-Sequenzen erzeugen."
   ]
  },
  {
   "cell_type": "code",
   "execution_count": null,
   "metadata": {},
   "outputs": [],
   "source": [
    "print('\\033[31mIch bin rot\\033[0m...\\033[32mund ich grün\\033[0m')"
   ]
  },
  {
   "cell_type": "markdown",
   "metadata": {},
   "source": [
    "Es gibt Fälle in denen man nicht möchte, dass der Python-Interpreter die Escape-Sequenzen als solche auswertet. dafür gibt es die Möglichkeit den entsprechenden String als sogenannten 'raw-string' zu definieren. Diese Definition geschieht mit einem \"r\" vor dem String-Literal."
   ]
  },
  {
   "cell_type": "code",
   "execution_count": null,
   "metadata": {},
   "outputs": [],
   "source": [
    "normaler_string = \"Ich bin ein normaler String\\nmit einem Zeilenumbruch.\"\n",
    "roher_string = r\"Mir sind Escape-Sequenzen\\nvollkommen egal\"\n",
    "print(normaler_string)\n",
    "print(roher_string)"
   ]
  },
  {
   "cell_type": "markdown",
   "metadata": {},
   "source": [
    "## print()\n",
    "\n",
    "Diese Funktion wurde oben schon mehrfach angewendet. Hier möchte ich etwas näher auf sie eingehen. Mit allen ihren Möglichkeiten präsentiert sich print() so:\n",
    "<tt>print(wert1, ..., sep=' ', end='\\n', file=sys.stdout, flush=False)</tt>.\n",
    "Zunächst sieht man, dass print() beliebig viele, durch Komma getrennte Werte ausgeben kann. Ausserdem sind einige Standardwerte vorgegeben, die man durch ihre explizite Angabe natürlich ändern kann.\n",
    "Angenommen Sie möchten eine IP-Adresse ausgeben und die einzelnen Werte nicht durch ein Leerzeichen, sondern durch einen Punkt trennen, könnte das so aussehen:"
   ]
  },
  {
   "cell_type": "code",
   "execution_count": null,
   "metadata": {},
   "outputs": [],
   "source": [
    "print(198, 162, 12, 1, sep=\".\")"
   ]
  },
  {
   "cell_type": "markdown",
   "metadata": {},
   "source": [
    "Möchten Sie den Namen des Rechners voranstellen, ohne dass print() am Ende einen Zeilenvorschub macht, tauschen Sie ihn gegen ein Leerzeichen oder wie hier gegen einen Tabulator aus."
   ]
  },
  {
   "cell_type": "code",
   "execution_count": null,
   "metadata": {},
   "outputs": [],
   "source": [
    "print(\"Router\", end=\"\\t\")\n",
    "print(198, 162, 12, 1, sep=\".\")"
   ]
  },
  {
   "cell_type": "markdown",
   "metadata": {},
   "source": [
    "Mit dem Argument <tt>file</tt> kann man die Ausgabe vom Standard (Bildschirm) in eine Datei umleiten. In dem Fall erfolgt keine Ausgabe auf den Bildschirm."
   ]
  },
  {
   "cell_type": "code",
   "execution_count": null,
   "metadata": {},
   "outputs": [],
   "source": [
    "myfile = open(\"myfile.txt\",\"w\")\n",
    "print(\"Ich werde nach myfile.txt geschrieben\", file=myfile)\n",
    "myfile.close()"
   ]
  },
  {
   "cell_type": "markdown",
   "metadata": {},
   "source": [
    "## Formatierung von Strings\n",
    "\n",
    "Strings sind in Python als Klasse realisiert und die Formatierung erfolgt mit der String-Methode <tt>format</tt>. Hierbei handelt es sich um die Ausgabe (evtl. variabler) Werte, die über einen Platzhalter in einen String eingefügt werden. Genau genommen wird dabei weniger der String, sondern der einzufügende Wert formatiert. Die Platzhalter bestehen aus geschweiften Klammern {code} mit optionalem Formatierungscode. "
   ]
  },
  {
   "cell_type": "code",
   "execution_count": null,
   "metadata": {},
   "outputs": [],
   "source": [
    "\"{} kg Mehl zum Preis von {}\".format(1,2.99)"
   ]
  },
  {
   "cell_type": "markdown",
   "metadata": {},
   "source": [
    "Im obigen Beispiel enthalten die Platzhalter {} keinen Formatierungscode und werden einfach durch die in der format-Methode angegebenen Werte ersetzt. Jetzt werden wir die Reihenfolge der Platzhalter bestimmen. Dazu vergeben wir laufende Nummern (beginnend bei 0) in den Platzhaltern. Die Werte in der <tt>format</tt> Methode werden dann in dieser Reihenfolge eingefügt."
   ]
  },
  {
   "cell_type": "markdown",
   "metadata": {},
   "source": [
    "\"{1} Stück Kuchen zum Preis von {0}\".format(4.5,3)"
   ]
  },
  {
   "cell_type": "markdown",
   "metadata": {},
   "source": [
    "Um den Preis wie üblich mit zwei Dezimalen auszugeben, verwendet man das Platzhaltersymbol f für \"fixed point\" und setzt ihn mit einem Doppelpunkt in den Platzhalter. Wir wollen eine Stelle vor dem Dezimalpunkt und zwei dahinter, der code in den Platzhalter-Klammern lautet dann 0:1.2f."
   ]
  },
  {
   "cell_type": "code",
   "execution_count": null,
   "metadata": {},
   "outputs": [],
   "source": [
    "\"{1} Stück Kuchen zum Preis von {0:1.2f}\".format(4.5,3)"
   ]
  },
  {
   "cell_type": "markdown",
   "metadata": {},
   "source": [
    "Richtig interessant wird die Ausgabe erst, wenn man in <tt>format</tt> Variablen verwendet, deren Wert man irgendwo in seinem Programm bestimmt hat."
   ]
  },
  {
   "cell_type": "code",
   "execution_count": null,
   "metadata": {},
   "outputs": [],
   "source": [
    "Anzahl = 3\n",
    "Preis = 4.5\n",
    "\"{1} Stück Kuchen zum Preis von {0:1.2f}\".format(Preis,Anzahl)"
   ]
  },
  {
   "cell_type": "markdown",
   "metadata": {},
   "source": [
    "Es gibt noch einige weitere String-Methoden zur Formatierung."
   ]
  },
  {
   "cell_type": "code",
   "execution_count": 5,
   "metadata": {},
   "outputs": [
    {
     "name": "stdout",
     "output_type": "stream",
     "text": [
      ".....zentriert......\n",
      "links###############\n",
      "              rechts\n"
     ]
    }
   ],
   "source": [
    "z = 'zentriert'\n",
    "l = \"links\"\n",
    "r = \"rechts\"\n",
    "print(z.center(20,\".\"))\n",
    "print(l.ljust(20,\"#\"))\n",
    "print(r.rjust(20))"
   ]
  }
 ],
 "metadata": {
  "kernelspec": {
   "display_name": "Python 3",
   "language": "python",
   "name": "python3"
  },
  "language_info": {
   "codemirror_mode": {
    "name": "ipython",
    "version": 3
   },
   "file_extension": ".py",
   "mimetype": "text/x-python",
   "name": "python",
   "nbconvert_exporter": "python",
   "pygments_lexer": "ipython3",
   "version": "3.8.2"
  }
 },
 "nbformat": 4,
 "nbformat_minor": 4
}
