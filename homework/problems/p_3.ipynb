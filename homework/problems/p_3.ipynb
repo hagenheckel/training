{
 "cells": [
  {
   "cell_type": "markdown",
   "metadata": {},
   "source": [
    "# Aufgabe 3"
   ]
  },
  {
   "cell_type": "markdown",
   "metadata": {},
   "source": [
    "## Im folgenden String soll jeder zweite Buchstabe entfernt werden. Lösen Sie das Problem mit Slicing."
   ]
  },
  {
   "cell_type": "code",
   "execution_count": 4,
   "metadata": {},
   "outputs": [],
   "source": [
    "string = \"Aslslses smsesisnses sEsnstscshsesns ssscshswsismsmsesns sasusfs sdsesms sSseses,s \\\n",
    "sKsöspsfscshsesns sisns sdsasss sWsasssssesrs,s sSscshswsäsnszscshsesns sisns sdsises sHsöshs.s\""
   ]
  }
 ],
 "metadata": {
  "kernelspec": {
   "display_name": "Python 3",
   "language": "python",
   "name": "python3"
  },
  "language_info": {
   "codemirror_mode": {
    "name": "ipython",
    "version": 3
   },
   "file_extension": ".py",
   "mimetype": "text/x-python",
   "name": "python",
   "nbconvert_exporter": "python",
   "pygments_lexer": "ipython3",
   "version": "3.8.2"
  }
 },
 "nbformat": 4,
 "nbformat_minor": 4
}
