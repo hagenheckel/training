{
 "cells": [
  {
   "cell_type": "markdown",
   "metadata": {},
   "source": [
    "# Übungen zum Thema \"Verzweigungen\""
   ]
  },
  {
   "cell_type": "markdown",
   "metadata": {},
   "source": [
    "Sie sehen eine verschachtelte if-elif-else Struktur. Was ist das Ergebnis?"
   ]
  },
  {
   "cell_type": "code",
   "execution_count": 2,
   "metadata": {},
   "outputs": [
    {
     "name": "stdout",
     "output_type": "stream",
     "text": [
      "6\n"
     ]
    }
   ],
   "source": [
    "z = 1\n",
    "a = 0\n",
    "b = -18\n",
    "if a > 0:\n",
    "    if b < 0: \n",
    "        z = z + 15 \n",
    "    elif a > 5:\n",
    "        z = z + 14\n",
    "    else:\n",
    "        z = z + 13\n",
    "else:\n",
    "    z = z + 5\n",
    "print(z)"
   ]
  },
  {
   "cell_type": "markdown",
   "metadata": {},
   "source": [
    "Die erste if-Abfrage greift nicht, da a == 0 und nicht a > 0. Deshalb springt der Programmablauf sofort in den else-Zweig und addiert 5."
   ]
  },
  {
   "cell_type": "markdown",
   "metadata": {},
   "source": [
    "Hier haben wir die gleiche Verzweigung wie im vorigen Beispiel, aber andere Ausgangswerte. Was ist das Ergebnis?"
   ]
  },
  {
   "cell_type": "code",
   "execution_count": 3,
   "metadata": {},
   "outputs": [
    {
     "name": "stdout",
     "output_type": "stream",
     "text": [
      "13\n"
     ]
    }
   ],
   "source": [
    "z = 0\n",
    "a = 5\n",
    "b = 5\n",
    "if a > 0:\n",
    "    if b < 0: \n",
    "        z = z + 15 \n",
    "    elif a > 5:\n",
    "        z = z + 14\n",
    "    else:\n",
    "        z = z + 13\n",
    "else:\n",
    "    z = z + 5\n",
    "print(z)"
   ]
  },
  {
   "cell_type": "markdown",
   "metadata": {},
   "source": [
    "Jetzt ist a > 0, wir springen also in die eingerückte if-elif-else Verzweigung: b ist nicht < 0, a ist nicht > 5, also wird die (innere) else-Anweisung ausgeführt. Die äußere else-Anweisung mit z = z + 5 kommt nicht zum tragen."
   ]
  },
  {
   "cell_type": "code",
   "execution_count": 6,
   "metadata": {},
   "outputs": [
    {
     "name": "stdout",
     "output_type": "stream",
     "text": [
      "Alles was nicht 0 ist, ist True\n"
     ]
    }
   ],
   "source": [
    "if -5.5:\n",
    "    print(\"Alles was nicht 0 ist, ist True\")\n",
    "else:\n",
    "    print(\"Der else-Zweig wird nicht ausgeführt\")"
   ]
  },
  {
   "cell_type": "markdown",
   "metadata": {},
   "source": [
    "Der Wert -5.5 ist ungleich 0 und bedeutet für die if-Anweisung True."
   ]
  },
  {
   "cell_type": "code",
   "execution_count": 7,
   "metadata": {},
   "outputs": [
    {
     "name": "stdout",
     "output_type": "stream",
     "text": [
      "Wir sind in der else-Verzeigung\n"
     ]
    }
   ],
   "source": [
    "a = None\n",
    "if a:\n",
    "    print(\"Wir sind in der if-Verzweigung\")\n",
    "else:\n",
    "    print(\"Wir sind in der else-Verzeigung\")"
   ]
  },
  {
   "cell_type": "markdown",
   "metadata": {},
   "source": [
    "<tt>None</tt> ist ein spezieller Wert in Python und wird von zum Beispiel von Funktionen zurückgegeben, die keine return-Anweisung besitzen."
   ]
  }
 ],
 "metadata": {
  "kernelspec": {
   "display_name": "Python 3",
   "language": "python",
   "name": "python3"
  },
  "language_info": {
   "codemirror_mode": {
    "name": "ipython",
    "version": 3
   },
   "file_extension": ".py",
   "mimetype": "text/x-python",
   "name": "python",
   "nbconvert_exporter": "python",
   "pygments_lexer": "ipython3",
   "version": "3.8.2"
  }
 },
 "nbformat": 4,
 "nbformat_minor": 4
}
