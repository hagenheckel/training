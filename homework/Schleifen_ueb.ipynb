{
 "cells": [
  {
   "cell_type": "markdown",
   "metadata": {},
   "source": [
    "# Übungen zum Thema \"Schleifen\""
   ]
  },
  {
   "cell_type": "markdown",
   "metadata": {},
   "source": [
    "Was ist das Ergebnis der folgenden verschachtelten for-Schleife?"
   ]
  },
  {
   "cell_type": "code",
   "execution_count": 4,
   "metadata": {},
   "outputs": [
    {
     "name": "stdout",
     "output_type": "stream",
     "text": [
      "90\n"
     ]
    }
   ],
   "source": [
    "z = 0\n",
    "for i in range(10):\n",
    "  for j in range(-1, -10, -1):\n",
    "    z += 1\n",
    "print(z)"
   ]
  },
  {
   "cell_type": "markdown",
   "metadata": {},
   "source": [
    "Die äußere (i) Schleife läuft von 0 bis 9, die innere (j) von -1 bis -10. Also zählt die innere Schleife jeweils 10 hoch und die äussere wird 9-mal durchlaufen."
   ]
  },
  {
   "cell_type": "markdown",
   "metadata": {},
   "source": [
    "Was gibt diese Schleife aus?"
   ]
  },
  {
   "cell_type": "code",
   "execution_count": 1,
   "metadata": {},
   "outputs": [
    {
     "name": "stdout",
     "output_type": "stream",
     "text": [
      "21\n"
     ]
    }
   ],
   "source": [
    "v = 10\n",
    "for i in range(10):\n",
    "    for j in range(2, 10, 1):\n",
    "        if v % 2 == 0:\n",
    "            continue\n",
    "            v += 1\n",
    "    v+=1\n",
    "else:\n",
    "    v+=1\n",
    "print(v)"
   ]
  },
  {
   "cell_type": "code",
   "execution_count": 4,
   "metadata": {},
   "outputs": [
    {
     "name": "stdout",
     "output_type": "stream",
     "text": [
      "i  0\n",
      "j  2\n",
      "j  3\n",
      "j  4\n",
      "j  5\n",
      "j  6\n",
      "j  7\n",
      "j  8\n",
      "j  9\n",
      "i  1\n",
      "j  2\n",
      "v in innerer Schleife:  11\n",
      "j  3\n",
      "v in innerer Schleife:  11\n",
      "j  4\n",
      "v in innerer Schleife:  11\n",
      "j  5\n",
      "v in innerer Schleife:  11\n",
      "j  6\n",
      "v in innerer Schleife:  11\n",
      "j  7\n",
      "v in innerer Schleife:  11\n",
      "j  8\n",
      "v in innerer Schleife:  11\n",
      "j  9\n",
      "v in innerer Schleife:  11\n",
      "i  2\n",
      "j  2\n",
      "j  3\n",
      "j  4\n",
      "j  5\n",
      "j  6\n",
      "j  7\n",
      "j  8\n",
      "j  9\n",
      "i  3\n",
      "j  2\n",
      "v in innerer Schleife:  13\n",
      "j  3\n",
      "v in innerer Schleife:  13\n",
      "j  4\n",
      "v in innerer Schleife:  13\n",
      "j  5\n",
      "v in innerer Schleife:  13\n",
      "j  6\n",
      "v in innerer Schleife:  13\n",
      "j  7\n",
      "v in innerer Schleife:  13\n",
      "j  8\n",
      "v in innerer Schleife:  13\n",
      "j  9\n",
      "v in innerer Schleife:  13\n",
      "i  4\n",
      "j  2\n",
      "j  3\n",
      "j  4\n",
      "j  5\n",
      "j  6\n",
      "j  7\n",
      "j  8\n",
      "j  9\n",
      "i  5\n",
      "j  2\n",
      "v in innerer Schleife:  15\n",
      "j  3\n",
      "v in innerer Schleife:  15\n",
      "j  4\n",
      "v in innerer Schleife:  15\n",
      "j  5\n",
      "v in innerer Schleife:  15\n",
      "j  6\n",
      "v in innerer Schleife:  15\n",
      "j  7\n",
      "v in innerer Schleife:  15\n",
      "j  8\n",
      "v in innerer Schleife:  15\n",
      "j  9\n",
      "v in innerer Schleife:  15\n",
      "i  6\n",
      "j  2\n",
      "j  3\n",
      "j  4\n",
      "j  5\n",
      "j  6\n",
      "j  7\n",
      "j  8\n",
      "j  9\n",
      "i  7\n",
      "j  2\n",
      "v in innerer Schleife:  17\n",
      "j  3\n",
      "v in innerer Schleife:  17\n",
      "j  4\n",
      "v in innerer Schleife:  17\n",
      "j  5\n",
      "v in innerer Schleife:  17\n",
      "j  6\n",
      "v in innerer Schleife:  17\n",
      "j  7\n",
      "v in innerer Schleife:  17\n",
      "j  8\n",
      "v in innerer Schleife:  17\n",
      "j  9\n",
      "v in innerer Schleife:  17\n",
      "i  8\n",
      "j  2\n",
      "j  3\n",
      "j  4\n",
      "j  5\n",
      "j  6\n",
      "j  7\n",
      "j  8\n",
      "j  9\n",
      "i  9\n",
      "j  2\n",
      "v in innerer Schleife:  19\n",
      "j  3\n",
      "v in innerer Schleife:  19\n",
      "j  4\n",
      "v in innerer Schleife:  19\n",
      "j  5\n",
      "v in innerer Schleife:  19\n",
      "j  6\n",
      "v in innerer Schleife:  19\n",
      "j  7\n",
      "v in innerer Schleife:  19\n",
      "j  8\n",
      "v in innerer Schleife:  19\n",
      "j  9\n",
      "v in innerer Schleife:  19\n",
      "21\n"
     ]
    }
   ],
   "source": [
    "v = 10\n",
    "for i in range(10):\n",
    "    print(\"i \",i)\n",
    "    for j in range(2, 10, 1):\n",
    "        print(\"j \",j)\n",
    "        if v % 2 == 0:\n",
    "            continue\n",
    "            v += 1\n",
    "        print(\"v in innerer Schleife: \",v)\n",
    "    v+=1\n",
    "else:\n",
    "    v+=1\n",
    "print(v)"
   ]
  },
  {
   "cell_type": "code",
   "execution_count": null,
   "metadata": {},
   "outputs": [],
   "source": [
    "for l in 'Jhon':\n",
    "   if l == 'o':\n",
    "      pass\n",
    "   print(l, end=\", \")"
   ]
  },
  {
   "cell_type": "code",
   "execution_count": null,
   "metadata": {},
   "outputs": [],
   "source": [
    "for num in range(-2,-5,-1):\n",
    "    print(num, end=\", \")"
   ]
  },
  {
   "cell_type": "code",
   "execution_count": null,
   "metadata": {},
   "outputs": [],
   "source": [
    "x = 0\n",
    "while (x < 100):\n",
    "  x+=2\n",
    "print(x)"
   ]
  },
  {
   "cell_type": "code",
   "execution_count": null,
   "metadata": {},
   "outputs": [],
   "source": [
    "for num in range(10, 14):\n",
    "   for i in range(2, num):\n",
    "       if num%i == 1:\n",
    "          print(num)\n",
    "          break"
   ]
  },
  {
   "cell_type": "code",
   "execution_count": null,
   "metadata": {},
   "outputs": [],
   "source": [
    "numbers = [10, 20]\n",
    "items = [\"Chair\", \"Table\"]\n",
    "\n",
    "for x in numbers:\n",
    "  for y in items:\n",
    "    print(x, y)"
   ]
  },
  {
   "cell_type": "code",
   "execution_count": null,
   "metadata": {},
   "outputs": [],
   "source": [
    "for num in range(2,-5,-1):\n",
    "    print(num, end=\", \")"
   ]
  }
 ],
 "metadata": {
  "kernelspec": {
   "display_name": "Python 3",
   "language": "python",
   "name": "python3"
  },
  "language_info": {
   "codemirror_mode": {
    "name": "ipython",
    "version": 3
   },
   "file_extension": ".py",
   "mimetype": "text/x-python",
   "name": "python",
   "nbconvert_exporter": "python",
   "pygments_lexer": "ipython3",
   "version": "3.8.2"
  }
 },
 "nbformat": 4,
 "nbformat_minor": 4
}
