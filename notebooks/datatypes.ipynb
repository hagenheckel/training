{
 "cells": [
  {
   "cell_type": "markdown",
   "id": "878de2b8",
   "metadata": {},
   "source": [
    "# Datentypen und Variablen"
   ]
  },
  {
   "cell_type": "markdown",
   "id": "27102e53",
   "metadata": {},
   "source": [
    "In Python wird ein Objekt durch eine Variable referenziert."
   ]
  },
  {
   "cell_type": "code",
   "execution_count": 3,
   "id": "1e107ca8",
   "metadata": {},
   "outputs": [
    {
     "name": "stdout",
     "output_type": "stream",
     "text": [
      "Der Wert von x ist:  500\n"
     ]
    }
   ],
   "source": [
    "x = 500\n",
    "print(\"Der Wert von x ist: \",x)"
   ]
  },
  {
   "cell_type": "markdown",
   "id": "b09833d7",
   "metadata": {},
   "source": [
    "Die <b>id-Funktion</b> gibt die Identität eines Objektes zurück. Zwei Variablennamen können auf das gleiche Objekt zeigen und haben dann die gleiche Identität."
   ]
  },
  {
   "cell_type": "code",
   "execution_count": 6,
   "id": "32eab81a",
   "metadata": {},
   "outputs": [
    {
     "name": "stdout",
     "output_type": "stream",
     "text": [
      "Identität von x:  140336450057792\n",
      "Identität von y vor der Zuweisung:  140336381346032\n",
      "Identität von y nach der Zuweisung:  140336450057792\n"
     ]
    }
   ],
   "source": [
    "x = \"Dies ist eine Zeichenkette.\"\n",
    "y = \"Zeichenketten nennt man auch Strings.\"\n",
    "print(\"Identität von x: \",id(x))\n",
    "print(\"Identität von y vor der Zuweisung: \",id(y))\n",
    "y = x\n",
    "print(\"Identität von y nach der Zuweisung: \",id(y))"
   ]
  },
  {
   "cell_type": "markdown",
   "id": "75ea9a4f",
   "metadata": {},
   "source": [
    "Neben den <b>Operatoren</b> <code> + - * /</code> gibt es noch \\\n",
    "<code>//</code> für die ganzzahlige Division \\\n",
    "<code>%</code> für die Modulo- oder Restdivision \\\n",
    "<code>abs()</code> für die Bestimmung des Betrags eines Wertes sowie \\\n",
    "<code>**</code> für die Potenz."
   ]
  },
  {
   "cell_type": "code",
   "execution_count": 24,
   "id": "8cdd405d",
   "metadata": {},
   "outputs": [
    {
     "name": "stdout",
     "output_type": "stream",
     "text": [
      "3\n",
      "1\n",
      "8\n",
      "16777216\n"
     ]
    }
   ],
   "source": [
    "print(8%5)\n",
    "print(8//5)\n",
    "print(abs(-8))\n",
    "print(8**8)"
   ]
  },
  {
   "cell_type": "markdown",
   "id": "90675ba6",
   "metadata": {},
   "source": [
    "Die <b>erweiterte Zuweisung</b> wird zum Beispiel in Schleifen verwendet um den Wert einer Variablen zu verändern."
   ]
  },
  {
   "cell_type": "code",
   "execution_count": 11,
   "id": "aa7b90db",
   "metadata": {},
   "outputs": [
    {
     "name": "stdout",
     "output_type": "stream",
     "text": [
      "1\n",
      "2\n"
     ]
    }
   ],
   "source": [
    "z = 0\n",
    "z = z+1\n",
    "print(z)\n",
    "z += 1\n",
    "print(z)"
   ]
  },
  {
   "cell_type": "markdown",
   "id": "fbf099d9",
   "metadata": {},
   "source": [
    "Auf den ersten Blick erreicht man mit <code>z += 1</code> das gleiche wie mit <code>z = z + 1</code>, allerdings ist die erweiterte Zuweisung <code>z += 1</code> wesentlich schneller. Es gibt nicht nur die Zuweisung für die Addition einer Zahl sondern auch <code>-= *= /= **= //= und %=</code>"
   ]
  },
  {
   "cell_type": "markdown",
   "id": "7ee5d530",
   "metadata": {},
   "source": [
    "<b>Ganze Zahlen</b> sind im Gegensatz zu vielen anderen Programmiersprachen in Python unbegrenzt."
   ]
  },
  {
   "cell_type": "code",
   "execution_count": 12,
   "id": "5a968b4a",
   "metadata": {},
   "outputs": [
    {
     "data": {
      "text/plain": [
       "152415787532388367501905199875019052100"
      ]
     },
     "execution_count": 12,
     "metadata": {},
     "output_type": "execute_result"
    }
   ],
   "source": [
    "x = 12345678901234567890\n",
    "x * x"
   ]
  },
  {
   "cell_type": "markdown",
   "id": "b6f78200",
   "metadata": {},
   "source": [
    "Integers können auch als Binärzahlen <code>0b</code>, Oktalzahlen <code>0o</code> und Hexadezimalzahlen<code>0x</code> eingegeben werden."
   ]
  },
  {
   "cell_type": "code",
   "execution_count": 16,
   "id": "b2e1b041",
   "metadata": {},
   "outputs": [
    {
     "name": "stdout",
     "output_type": "stream",
     "text": [
      "42\n",
      "33288\n",
      "1052688\n"
     ]
    }
   ],
   "source": [
    "x = 0b101010\n",
    "y = 0o101010\n",
    "z = 0x101010\n",
    "print(x)\n",
    "print(y)\n",
    "print(z)"
   ]
  },
  {
   "cell_type": "markdown",
   "id": "29a3b1e4",
   "metadata": {},
   "source": [
    "Die Funktionen <b>hex, bin</b> und <b>oct</b> wandeln eine ganze Zahl in eine Stringdarstellung der Zahl."
   ]
  },
  {
   "cell_type": "code",
   "execution_count": 20,
   "id": "a71a5c2d",
   "metadata": {},
   "outputs": [
    {
     "name": "stdout",
     "output_type": "stream",
     "text": [
      "0x101010\n",
      "0o101010\n",
      "0b101010\n"
     ]
    },
    {
     "data": {
      "text/plain": [
       "str"
      ]
     },
     "execution_count": 20,
     "metadata": {},
     "output_type": "execute_result"
    }
   ],
   "source": [
    "hexadezimal = hex(1052688)\n",
    "oktal = oct(33288)\n",
    "binaer = bin(42)\n",
    "print(hexadezimal)\n",
    "print(oktal)\n",
    "print(binaer)\n",
    "type(hexadezimal)"
   ]
  },
  {
   "cell_type": "markdown",
   "id": "5fbfeaf7",
   "metadata": {},
   "source": [
    "<b>Fließkommazahlen</b> können mit Dezimalpunkt oder auch als Zehnerpotenz eingegeben werden."
   ]
  },
  {
   "cell_type": "code",
   "execution_count": 21,
   "id": "10777c40",
   "metadata": {},
   "outputs": [
    {
     "name": "stdout",
     "output_type": "stream",
     "text": [
      "23581.4142\n"
     ]
    }
   ],
   "source": [
    "x = 1.4142\n",
    "y = 23.58e3\n",
    "print(x+y)"
   ]
  },
  {
   "cell_type": "markdown",
   "id": "743d2e81",
   "metadata": {},
   "source": [
    "<b>Booleans</b> können nur die Werte wahr <code>True</code> und falsch <code>False</code> annehmen. Die Operatoren <code> not, and, or</code> und <code>^</code> für 'exclusive or' ermöglichen die Verknüpfung von Wahrheitswerten."
   ]
  },
  {
   "cell_type": "code",
   "execution_count": 23,
   "id": "e5dadf15",
   "metadata": {},
   "outputs": [
    {
     "name": "stdout",
     "output_type": "stream",
     "text": [
      "False\n",
      "False\n",
      "True\n",
      "True\n"
     ]
    }
   ],
   "source": [
    "x = True\n",
    "y = False\n",
    "print(not x)\n",
    "print(x and y)\n",
    "print(x or y)\n",
    "print(x ^ y)"
   ]
  },
  {
   "cell_type": "markdown",
   "id": "8fb1c700",
   "metadata": {},
   "source": [
    "<b>Komplexe Zahlen</b> werden in Python in der Form <code>a + b j</code> mit <code>j**2 = -1</code> dargestellt."
   ]
  },
  {
   "cell_type": "code",
   "execution_count": 25,
   "id": "d9a6cbe1",
   "metadata": {},
   "outputs": [
    {
     "name": "stdout",
     "output_type": "stream",
     "text": [
      "(6+1.5j)\n",
      "(-2+4.5j)\n",
      "(12.5+9j)\n",
      "(0.1917808219178082+0.821917808219178j)\n"
     ]
    }
   ],
   "source": [
    "x = 2 + 3j\n",
    "y = 4 - 1.5j\n",
    "print(x+y)\n",
    "print(x-y)\n",
    "print(x*y)\n",
    "print(x/y)"
   ]
  },
  {
   "cell_type": "markdown",
   "id": "861ce54e",
   "metadata": {},
   "source": [
    "Die <b>Typdeklaration</b> einer Variablen erfolgt in Python automatisch. mit der Funktion <code>type</code> kann man sich den jeweiligen Typ ansehen."
   ]
  },
  {
   "cell_type": "code",
   "execution_count": 2,
   "id": "7fb43818",
   "metadata": {},
   "outputs": [
    {
     "name": "stdout",
     "output_type": "stream",
     "text": [
      "<class 'int'>\n",
      "<class 'str'>\n",
      "<class 'list'>\n"
     ]
    }
   ],
   "source": [
    "i = 50\n",
    "print(type(i))\n",
    "i = 'Hallo Welt'\n",
    "print(type(i))\n",
    "i = [2,3,5,7]\n",
    "print(type(i))"
   ]
  },
  {
   "cell_type": "markdown",
   "id": "0ef871fa",
   "metadata": {},
   "source": [
    "Im oberen Beispiel wurde i dynamisch jeweils ein neuer Typ zugewiesen. Trotzdem achtet Python darauf, daß nur kompatible Typen verwendet werden und generiert ggf. einen <code>TypeError</code>."
   ]
  },
  {
   "cell_type": "code",
   "execution_count": 5,
   "id": "5590e212",
   "metadata": {},
   "outputs": [
    {
     "ename": "TypeError",
     "evalue": "can only concatenate str (not \"int\") to str",
     "output_type": "error",
     "traceback": [
      "\u001b[0;31m---------------------------------------------------------------------------\u001b[0m",
      "\u001b[0;31mTypeError\u001b[0m                                 Traceback (most recent call last)",
      "\u001b[0;32m/tmp/ipykernel_7660/2938463237.py\u001b[0m in \u001b[0;36m<module>\u001b[0;34m\u001b[0m\n\u001b[1;32m      2\u001b[0m \u001b[0my\u001b[0m \u001b[0;34m=\u001b[0m \u001b[0;36m42\u001b[0m\u001b[0;34m\u001b[0m\u001b[0;34m\u001b[0m\u001b[0m\n\u001b[1;32m      3\u001b[0m \u001b[0mz\u001b[0m \u001b[0;34m=\u001b[0m \u001b[0;34m' Jahre alt.'\u001b[0m\u001b[0;34m\u001b[0m\u001b[0;34m\u001b[0m\u001b[0m\n\u001b[0;32m----> 4\u001b[0;31m \u001b[0mausgabe\u001b[0m \u001b[0;34m=\u001b[0m \u001b[0mx\u001b[0m \u001b[0;34m+\u001b[0m \u001b[0my\u001b[0m \u001b[0;34m+\u001b[0m \u001b[0mz\u001b[0m\u001b[0;34m\u001b[0m\u001b[0;34m\u001b[0m\u001b[0m\n\u001b[0m",
      "\u001b[0;31mTypeError\u001b[0m: can only concatenate str (not \"int\") to str"
     ]
    }
   ],
   "source": [
    "x = 'Ich bin '\n",
    "y = 42\n",
    "z = ' Jahre alt.'\n",
    "ausgabe = x + y + z"
   ]
  },
  {
   "cell_type": "markdown",
   "id": "4b41b0a1",
   "metadata": {},
   "source": [
    "Durch explizite <b>Typumwandlung (type cast)</b> kann man zum Beispiel eine Integerzahl in einen String wandeln bevor man ihn verknüpft um einen TypeError zu vermeiden. Im folgenden Beispiel wandeln wir die Ganzzahl 42 mit der Funktion <code>str()</code> in einen String bevor wir sie verknüpfen."
   ]
  },
  {
   "cell_type": "code",
   "execution_count": 7,
   "id": "c40388e5",
   "metadata": {},
   "outputs": [
    {
     "name": "stdout",
     "output_type": "stream",
     "text": [
      "Ich bin 42 Jahre alt.\n"
     ]
    }
   ],
   "source": [
    "x = 'Ich bin '\n",
    "y = 42\n",
    "z = ' Jahre alt.'\n",
    "print(x + str(y) + z)"
   ]
  },
  {
   "cell_type": "markdown",
   "id": "f2d53d6d",
   "metadata": {},
   "source": [
    "Bisweilen übernimmt Python den Type-Cast auch automatisch, z.B. wenn man versucht Ganzzahlen (Integers) mit Gleitkommazahlen (Floats) zu verknüpfen."
   ]
  },
  {
   "cell_type": "code",
   "execution_count": 11,
   "id": "b0a86eed",
   "metadata": {},
   "outputs": [
    {
     "name": "stdout",
     "output_type": "stream",
     "text": [
      "11.8\n",
      "<class 'int'> <class 'float'> <class 'float'>\n"
     ]
    }
   ],
   "source": [
    "x = 7\n",
    "y = 4.8\n",
    "z = x + y\n",
    "print(z)\n",
    "print(type(x),type(y),type(z))"
   ]
  },
  {
   "cell_type": "markdown",
   "id": "2c05dc07",
   "metadata": {},
   "source": [
    "Neben der Funktion <code>type()</code> gibt es zum übeprüfen des Datentyps die Funktion <code>isinstance()</code>. Sie liefert als Ergebnis <code>True</code> oder <code>False</code> zurück."
   ]
  },
  {
   "cell_type": "code",
   "execution_count": 1,
   "id": "c2b840f3",
   "metadata": {},
   "outputs": [
    {
     "data": {
      "text/plain": [
       "True"
      ]
     },
     "execution_count": 1,
     "metadata": {},
     "output_type": "execute_result"
    }
   ],
   "source": [
    "x = (4,15,99)\n",
    "isinstance(x, tuple)"
   ]
  },
  {
   "cell_type": "code",
   "execution_count": null,
   "id": "d575f614",
   "metadata": {},
   "outputs": [],
   "source": []
  }
 ],
 "metadata": {
  "kernelspec": {
   "display_name": "Python 3",
   "language": "python",
   "name": "python3"
  },
  "language_info": {
   "codemirror_mode": {
    "name": "ipython",
    "version": 3
   },
   "file_extension": ".py",
   "mimetype": "text/x-python",
   "name": "python",
   "nbconvert_exporter": "python",
   "pygments_lexer": "ipython3",
   "version": "3.10.6"
  }
 },
 "nbformat": 4,
 "nbformat_minor": 5
}
