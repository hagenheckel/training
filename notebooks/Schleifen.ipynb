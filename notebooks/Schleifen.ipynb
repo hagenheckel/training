{
 "cells": [
  {
   "cell_type": "markdown",
   "metadata": {
    "slideshow": {
     "slide_type": "slide"
    }
   },
   "source": [
    "#  Willkommen\n",
    "## Mein Name ist Hagen und ich möchte Ihnen die Programmiersprache Python <b>effizient</b> näherbringen.\n",
    "## Sie lernen <b>nur was Sie wirklich brauchen</b>. Haben Sie die <b>Konzepte verstanden</b>, können sie <b>Details</b> in der Dokumentation <b>nachschlagen</b>."
   ]
  },
  {
   "cell_type": "markdown",
   "metadata": {
    "slideshow": {
     "slide_type": "slide"
    }
   },
   "source": [
    "# Schleifen"
   ]
  },
  {
   "cell_type": "markdown",
   "metadata": {
    "slideshow": {
     "slide_type": "fragment"
    }
   },
   "source": [
    "## Übersicht\n",
    "\n",
    "<ul>\n",
    "    <li>While - Schleife</li>\n",
    "    <li>For - Schleife</li>\n",
    "    <li>Unterbrechen einer Schleife</li>\n",
    "    <li>Else in Schleifen</li>\n",
    "</ul>"
   ]
  },
  {
   "cell_type": "markdown",
   "metadata": {},
   "source": [
    "# while"
   ]
  },
  {
   "cell_type": "markdown",
   "metadata": {
    "slideshow": {
     "slide_type": "slide"
    }
   },
   "source": [
    "Ganz allgemein ist eine Schleife ein <b>Codeblock</b>, der abhängig von einer Bedingung <b>wiederholt ausgeführt</b> wird. Python stellt zwei Möglichkeiten zur Verfügung, eine Schleife zu programmieren: <tt>for</tt> und <tt>while</tt>. Wir beginnen mit letzterer."
   ]
  },
  {
   "cell_type": "code",
   "execution_count": null,
   "metadata": {},
   "outputs": [],
   "source": [
    "while Bedingung gleich True:\n",
    "    Block ausführen"
   ]
  },
  {
   "cell_type": "markdown",
   "metadata": {},
   "source": [
    "Im folgenden Beispiel berechnen wir die Summe der Zahlen von 1 bis 10."
   ]
  },
  {
   "cell_type": "code",
   "execution_count": 6,
   "metadata": {},
   "outputs": [
    {
     "name": "stdout",
     "output_type": "stream",
     "text": [
      "Die Summe der Zahlen 1 bis 10 ist  55\n"
     ]
    }
   ],
   "source": [
    "i = 1\n",
    "n = 0\n",
    "while i <= 10:   # while mit Abbruchbedingung\n",
    "    n += i          # Codeblock\n",
    "    i += 1          # der wiederholt ausgeführt wird\n",
    "print(\"Die Summe der Zahlen 1 bis 10 ist \",n)"
   ]
  },
  {
   "cell_type": "markdown",
   "metadata": {},
   "source": [
    "# for"
   ]
  },
  {
   "cell_type": "markdown",
   "metadata": {
    "slideshow": {
     "slide_type": "slide"
    }
   },
   "source": [
    "Mit einer <tt>for</tt> Schleife kann man die gleiche Aufgabe erledigen, wenn sie auch in Python grundsätzlich anders arbeitet als <tt>while</tt>. <tt>for</tt> wiederholt den Codeblock nicht bis zu einer Abbruchbedingung, sondern arbeitet ein <b>iterierbares Objekt</b> ab. Ein iterierbares Objekt ist z.B. eine Liste."
   ]
  },
  {
   "cell_type": "code",
   "execution_count": 8,
   "metadata": {
    "scrolled": true
   },
   "outputs": [
    {
     "name": "stdout",
     "output_type": "stream",
     "text": [
      "Boeing 737\n",
      "Airbus 310\n",
      "Cessna 172\n",
      "Learjet 35\n",
      "Tupolev 156\n"
     ]
    }
   ],
   "source": [
    "flugzeuge = [\"Boeing 737\", \"Airbus 310\", \"Cessna 172\", \"Learjet 35\", \"Tupolev 156\"]\n",
    "\n",
    "for i in flugzeuge:\n",
    "    print(i)"
   ]
  },
  {
   "cell_type": "markdown",
   "metadata": {},
   "source": [
    "Der Codeblock, der hier nur aus der print-Anweisung besteht, wird also von for selbständig auf alle Listenelemente angewendet. "
   ]
  },
  {
   "cell_type": "markdown",
   "metadata": {},
   "source": [
    "Ein weiteres iterierbares Objekt liefert die <tt>range()</tt> - Funktion, die oft in for-Schleifen Verwendung findet. Allgemein sieht sie wie folgt aus: <tt>range(Startwert, Endwert, Schrittweite)</tt>. Lässt man den Startwert weg, wird er auf 0 gesetzt, der Standardwert für die Schrittweite ist 1 und der Endwert ist nicht enthalten. Deshalb stopt das nächste Beispiel auch bei 7 und nicht erst bei 8."
   ]
  },
  {
   "cell_type": "code",
   "execution_count": 11,
   "metadata": {
    "scrolled": true
   },
   "outputs": [
    {
     "name": "stdout",
     "output_type": "stream",
     "text": [
      "S_t_u_t_t_g_a_r_t_Schleife Nr.1\n",
      "S_t_u_t_t_g_a_r_t_Schleife Nr.2\n",
      "S_t_u_t_t_g_a_r_t_Schleife Nr.3\n",
      "S_t_u_t_t_g_a_r_t_Schleife Nr.4\n",
      "S_t_u_t_t_g_a_r_t_Schleife Nr.5\n",
      "S_t_u_t_t_g_a_r_t_Schleife Nr.6\n",
      "S_t_u_t_t_g_a_r_t_Schleife Nr.7\n"
     ]
    }
   ],
   "source": [
    "for i in range(1,8):\n",
    "    for s in \"Stuttgart\":\n",
    "        print(\"{}_\".format(s), end = '')\n",
    "    print(\"Schleife Nr.{}\".format(i))"
   ]
  },
  {
   "cell_type": "markdown",
   "metadata": {},
   "source": [
    "Wie man sieht, kann man auch einen String als iterierbares Objekt verwenden."
   ]
  },
  {
   "cell_type": "markdown",
   "metadata": {},
   "source": [
    "Für Umsteiger aus anderen Programmiersprachen zunächst ungewöhnlich ist, dass <tt>for</tt> in Python auch mehrere Variablen auf einmal bearbeiten kann. Im folgenden Beispiel haben wir eine Liste, die aus Tupeln mit jeweils zwei Elementen (Autor und Buch) besteht. Wir können beide in einer Schleife auslesen:"
   ]
  },
  {
   "cell_type": "code",
   "execution_count": 1,
   "metadata": {},
   "outputs": [
    {
     "name": "stdout",
     "output_type": "stream",
     "text": [
      "Umberto Eco | Im Name der Rose\n",
      "Friedrich Schiller | Die Räuber\n",
      "Donna Leon | Vendetta\n",
      "John Steinbeck | Die Strasse der Ölsardinen\n"
     ]
    }
   ],
   "source": [
    "b = [(\"Umberto Eco\",\"Im Name der Rose\"),\n",
    "     (\"Friedrich Schiller\",\"Die Räuber\"),\n",
    "     (\"Donna Leon\",\"Vendetta\"),\n",
    "     (\"John Steinbeck\",\"Die Strasse der Ölsardinen\")]\n",
    "     \n",
    "for autor,titel in b:\n",
    "    print(autor,titel,sep=' | ')"
   ]
  },
  {
   "cell_type": "markdown",
   "metadata": {},
   "source": [
    "# continue und break"
   ]
  },
  {
   "cell_type": "markdown",
   "metadata": {},
   "source": [
    "Mit diesen Befehlen kann man eine Schleife auf unterschiedliche Art und Weise verlassen.\n",
    "<ul>\n",
    "    <li> <tt>continue</tt> beendet einen Schleifendurchlauf.</li>\n",
    "    <li> Mit <tt>break</tt> verlässt man die ganze Schleife.</li>\n",
    "</ul>"
   ]
  },
  {
   "cell_type": "markdown",
   "metadata": {},
   "source": [
    "Das folgende kleine Programm gibt Zahlen aus, die man ohne Rest durch 17 teilen kann. Nach jeder Ausgabe wird der Benutzer gefragt ob er weitermachen möchte."
   ]
  },
  {
   "cell_type": "code",
   "execution_count": 7,
   "metadata": {},
   "outputs": [
    {
     "name": "stdout",
     "output_type": "stream",
     "text": [
      "Die Zahl 17 ist durch 17 teilbar.\n",
      "Weitermachen? (y)y\n",
      "Die Zahl 34 ist durch 17 teilbar.\n",
      "Weitermachen? (y)y\n",
      "Die Zahl 51 ist durch 17 teilbar.\n",
      "Weitermachen? (y)y\n",
      "Die Zahl 68 ist durch 17 teilbar.\n",
      "Weitermachen? (y)y\n",
      "Die Zahl 85 ist durch 17 teilbar.\n",
      "Weitermachen? (y)\n",
      "Berechnung beendet.\n"
     ]
    }
   ],
   "source": [
    "i=0\n",
    "while 1:\n",
    "    i += 1\n",
    "    if i % 17 != 0:\n",
    "        continue\n",
    "    print(\"Die Zahl {} ist durch 17 teilbar.\".format(i))\n",
    "    s = input(\"Weitermachen? (y)\")\n",
    "    if s == \"y\":\n",
    "        continue\n",
    "    else:\n",
    "        print(\"Berechnung beendet.\")\n",
    "        break       "
   ]
  },
  {
   "cell_type": "markdown",
   "metadata": {},
   "source": [
    "Bereits nach der Prüfung ob i durch 17 teilbar ist, bricht <tt>continue</tt> die weitere Ausführung ab, setzt i um 1 hoch und testet erneut. Gibt der Benutzer bei <tt>input</tt> kein \"y\" ein, verlässt man mit <tt>break</tt> die while-(Endlos)Schleife."
   ]
  },
  {
   "cell_type": "markdown",
   "metadata": {},
   "source": [
    "# else"
   ]
  },
  {
   "cell_type": "markdown",
   "metadata": {},
   "source": [
    "Einige C-Programmierer werden sich jetzt fragen, was <tt>else</tt> in einer Schleife zu suchen hat. Ja, Python bietet diese Option, die eigentlich nur im Zusammenhang mit der <tt>break</tt> Anweisung Sinn macht. Zur Demonstration wandeln wir unser Programm von oben etwas ab. An Stelle der Endlosschleife lassen wir <tt>while</tt> bei 51 abbrechen. Bis dahin hat der Benutzer die Möglichkeit weiterzumachen oder abzubrechen, danach springt die Schleife aber in den <tt>else</tt> Teil."
   ]
  },
  {
   "cell_type": "code",
   "execution_count": 12,
   "metadata": {},
   "outputs": [
    {
     "name": "stdout",
     "output_type": "stream",
     "text": [
      "Die Zahl 17 ist durch 17 teilbar.\n",
      "Weitermachen? (y)y\n",
      "Die Zahl 34 ist durch 17 teilbar.\n",
      "Weitermachen? (y)y\n",
      "Die Zahl 51 ist durch 17 teilbar.\n",
      "Weitermachen? (y)y\n",
      "Jetzt reichts\n"
     ]
    }
   ],
   "source": [
    "i=0\n",
    "while i<52:\n",
    "    i += 1\n",
    "    if i % 17 != 0:\n",
    "        continue\n",
    "    print(\"Die Zahl {} ist durch 17 teilbar.\".format(i))\n",
    "    s = input(\"Weitermachen? (y)\")\n",
    "    if s == \"y\":\n",
    "        continue\n",
    "    else:\n",
    "        print(\"Berechnung beendet.\")\n",
    "        break\n",
    "else:\n",
    "    print(\"Jetzt reichts\")"
   ]
  },
  {
   "cell_type": "markdown",
   "metadata": {
    "slideshow": {
     "slide_type": "slide"
    }
   },
   "source": [
    "Weitere Infos (Notebooks zum Video, Python-Probleme...) finden Sie auf <br>www.hagenheckel.de <br>und auf meinem <br>Github-Repository \"hagenheckel/training\"."
   ]
  }
 ],
 "metadata": {
  "kernelspec": {
   "display_name": "Python 3",
   "language": "python",
   "name": "python3"
  },
  "language_info": {
   "codemirror_mode": {
    "name": "ipython",
    "version": 3
   },
   "file_extension": ".py",
   "mimetype": "text/x-python",
   "name": "python",
   "nbconvert_exporter": "python",
   "pygments_lexer": "ipython3",
   "version": "3.8.2"
  }
 },
 "nbformat": 4,
 "nbformat_minor": 4
}
