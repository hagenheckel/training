{
 "cells": [
  {
   "cell_type": "markdown",
   "metadata": {
    "slideshow": {
     "slide_type": "slide"
    }
   },
   "source": [
    "#  Willkommen\n",
    "## Mein Name ist Hagen und ich möchte Ihnen die Programmiersprache Python <b>effizient</b> näherbringen.\n",
    "## Sie lernen <b>nur was Sie wirklich brauchen</b>. Haben Sie die <b>Konzepte verstanden</b>, können sie <b>Details</b> in der Dokumentation <b>nachschlagen</b>."
   ]
  },
  {
   "cell_type": "markdown",
   "metadata": {
    "slideshow": {
     "slide_type": "slide"
    }
   },
   "source": [
    "# Dictionaries"
   ]
  },
  {
   "cell_type": "markdown",
   "metadata": {
    "slideshow": {
     "slide_type": "fragment"
    }
   },
   "source": [
    "## Lernziele\n",
    "\n",
    "<ul>\n",
    "    <li>Dictionaries definieren</li>\n",
    "    <li>Interaktiv einen Wert eingeben</li>\n",
    "    <li>Werte abfragen</li>\n",
    "    <li>Instanzmethoden verwenden</li>\n",
    "    <li>Anzahl der Elemente ermitteln</li>\n",
    "</ul>"
   ]
  },
  {
   "cell_type": "markdown",
   "metadata": {
    "slideshow": {
     "slide_type": "slide"
    }
   },
   "source": [
    "Dictionaries bestehen aus <b>Schlüssel - Werte - Paaren</b>. Jedem Schlüssel ist ein Wert zugeordnet. In der Informatik nennt man diese Objekte auch 'assoziative Felder' oder 'Maps'."
   ]
  },
  {
   "cell_type": "markdown",
   "metadata": {
    "slideshow": {
     "slide_type": "fragment"
    }
   },
   "source": [
    "Dictionaries werden mit geschweiften Klammern definiert. Sie umschließen die Schlüssel - Werte - Paare. Schlüssel und Wert sind durch einen Doppelpunkt getrennt, die einzelnen Paare durch ein Komma.\n",
    "<tt>d = {Schlüssel : Wert, ...}</tt>. \n",
    "Als Wert für den Schlüssel kann man jeden <b>unveränderlichen</b> Datentyp verwenden, also Integers, Floats, Strings und sogar Tupel. Listen gehen nicht, sie sind veränderbar."
   ]
  },
  {
   "cell_type": "markdown",
   "metadata": {
    "slideshow": {
     "slide_type": "slide"
    }
   },
   "source": [
    "Das folgende Dictionary d1 assoziiert Städte mit den Ländern in denen sie liegen."
   ]
  },
  {
   "cell_type": "code",
   "execution_count": 1,
   "metadata": {
    "slideshow": {
     "slide_type": "fragment"
    }
   },
   "outputs": [],
   "source": [
    "d1 = {\"Besancon\":\"Frankreich\",\n",
    "     \"Husum\":\"Deutschland\",\n",
    "     \"Haiderabad\":\"Indien\",\n",
    "     \"Mumbai\":\"Indien\",\n",
    "     \"Omsk\":\"Russland\",\n",
    "     \"Vancouver\":\"Kanada\"}"
   ]
  },
  {
   "cell_type": "markdown",
   "metadata": {
    "slideshow": {
     "slide_type": "slide"
    }
   },
   "source": [
    "Das Dictionary d2 verknüpft Länder und Kontinente."
   ]
  },
  {
   "cell_type": "code",
   "execution_count": 2,
   "metadata": {
    "slideshow": {
     "slide_type": "fragment"
    }
   },
   "outputs": [],
   "source": [
    "d2 = {\"Frankreich\":\"Europa\",\n",
    "     \"Deutschland\":\"Europa\",\n",
    "     \"Indien\":\"Asien\",\n",
    "     \"Russland\":\"Asien\",\n",
    "     \"Kanada\":\"Amerika\"}"
   ]
  },
  {
   "cell_type": "markdown",
   "metadata": {
    "slideshow": {
     "slide_type": "slide"
    }
   },
   "source": [
    "Zur Eingabe der Stadt verwenden wir die Funktion <tt>input</tt> und weisen ihren Rückgabewert dem String <tt>stadt</tt> zu. Mit der String-Methode <tt>capitalize()</tt>  stellen wir sicher, dass <tt>stadt</tt> am Anfang einen Großbuchstaben hat."
   ]
  },
  {
   "cell_type": "code",
   "execution_count": 5,
   "metadata": {
    "slideshow": {
     "slide_type": "fragment"
    }
   },
   "outputs": [
    {
     "name": "stdout",
     "output_type": "stream",
     "text": [
      "Stadt eingeben: haiderabad\n",
      "Haiderabad\n"
     ]
    }
   ],
   "source": [
    "stadt = input(\"Stadt eingeben: \")\n",
    "stadt = stadt.capitalize()\n",
    "print(stadt)"
   ]
  },
  {
   "cell_type": "markdown",
   "metadata": {
    "slideshow": {
     "slide_type": "slide"
    }
   },
   "source": [
    "Die eigentliche Suche ist schnell erledigt. Zuerst prüfen wir in der <tt>if-Anweisung</tt> ob der eingegebene Suchstring überhaupt im Dictionary q vorkommt. Danach geben wir den zugehörigen Wert aus, indem wir <tt>stadt</tt> als Index verwenden. "
   ]
  },
  {
   "cell_type": "code",
   "execution_count": 6,
   "metadata": {
    "slideshow": {
     "slide_type": "fragment"
    }
   },
   "outputs": [],
   "source": [
    "if stadt in d1:\n",
    "    land = d1[stadt]"
   ]
  },
  {
   "cell_type": "markdown",
   "metadata": {
    "slideshow": {
     "slide_type": "slide"
    }
   },
   "source": [
    "Jetzt möchten wir noch wissen auf welchem Kontinent die gesuchte Stadt liegt. Dazu schauen wir im Dictionary d2 nach."
   ]
  },
  {
   "cell_type": "code",
   "execution_count": 7,
   "metadata": {
    "slideshow": {
     "slide_type": "fragment"
    }
   },
   "outputs": [],
   "source": [
    "kontinent = d2[land]"
   ]
  },
  {
   "cell_type": "markdown",
   "metadata": {
    "slideshow": {
     "slide_type": "fragment"
    }
   },
   "source": [
    "Die Ausgabe erfolgt mit <tt>print()</tt> und der string-Methode <tt>format</tt>. Sie fügt die Werte <tt>stadt, land</tt> und <tt>kontinent</tt> an den mit gescheiften Klammern bezeichneten Stellen im Ausgabestring ein."
   ]
  },
  {
   "cell_type": "code",
   "execution_count": 8,
   "metadata": {},
   "outputs": [
    {
     "name": "stdout",
     "output_type": "stream",
     "text": [
      "Haiderabad liegt in Indien.\n",
      "Indien liegt in Asien.\n"
     ]
    }
   ],
   "source": [
    "print(\"{} liegt in {}.\".format(stadt, land))\n",
    "print(\"{} liegt in {}.\".format(land, kontinent))"
   ]
  },
  {
   "cell_type": "markdown",
   "metadata": {
    "slideshow": {
     "slide_type": "slide"
    }
   },
   "source": [
    "Auf jedem Dictionary sind Methoden definiert, die es uns erlauben die Daten in der einen oder anderen Weise zu manipulieren. Es gibt Methoden zum Löschen <tt>clear(), pop(), popitem()</tt>, Lesen <tt>items(), keys()</tt> oder Hinzufügen weiterer Dictionaries <tt>update()</tt>. Als Beispiel möchten wir die vorhandenen Schlüssel ansehen."
   ]
  },
  {
   "cell_type": "code",
   "execution_count": 9,
   "metadata": {
    "slideshow": {
     "slide_type": "fragment"
    }
   },
   "outputs": [
    {
     "name": "stdout",
     "output_type": "stream",
     "text": [
      "dict_keys(['Besancon', 'Husum', 'Haiderabad', 'Mumbai', 'Omsk', 'Vancouver'])\n",
      "dict_keys(['Frankreich', 'Deutschland', 'Indien', 'Russland', 'Kanada'])\n"
     ]
    }
   ],
   "source": [
    "print(d1.keys())\n",
    "print(d2.keys())"
   ]
  },
  {
   "cell_type": "markdown",
   "metadata": {
    "slideshow": {
     "slide_type": "fragment"
    }
   },
   "source": [
    "<tt>keys()</tt> extrahiert die Schlüssel und gibt sie als ein Objekt vom Typ <tt>dict_keys</tt> zurück."
   ]
  },
  {
   "cell_type": "markdown",
   "metadata": {
    "slideshow": {
     "slide_type": "slide"
    }
   },
   "source": [
    "Die Funktion <tt>len()</tt> ist keine Instanz-Methode und liefert bei Dictionaries die Anzahl der Datensätze. Man kann ihr auch Listen, Strings, o.ä. übergeben. Je nachdem liefert sie die Anzahl der Elemente oder bei Strings die Anzahl der Zeichen."
   ]
  },
  {
   "cell_type": "code",
   "execution_count": 10,
   "metadata": {
    "slideshow": {
     "slide_type": "fragment"
    }
   },
   "outputs": [
    {
     "name": "stdout",
     "output_type": "stream",
     "text": [
      "d1 hat 6 Datensätze\n",
      "d2 hat 5 Datensätze\n",
      "Donaudampfschifffahrtskapitän hat 29 Buchstaben\n"
     ]
    }
   ],
   "source": [
    "print(\"d1 hat {} Datensätze\".format(len(d1)))\n",
    "print(\"d2 hat {} Datensätze\".format(len(d2)))\n",
    "s = \"Donaudampfschifffahrtskapitän\"\n",
    "print(s + \" hat {} Buchstaben\".format(len(s)))"
   ]
  },
  {
   "cell_type": "markdown",
   "metadata": {
    "slideshow": {
     "slide_type": "slide"
    }
   },
   "source": [
    "Weitere Infos (Notebooks zum Video, Python-Probleme...) finden Sie auf <br>www.hagenheckel.de <br>und auf meinem <br>Github-Repository \"hagenheckel/training\"."
   ]
  }
 ],
 "metadata": {
  "celltoolbar": "Slideshow",
  "kernelspec": {
   "display_name": "Python 3",
   "language": "python",
   "name": "python3"
  },
  "language_info": {
   "codemirror_mode": {
    "name": "ipython",
    "version": 3
   },
   "file_extension": ".py",
   "mimetype": "text/x-python",
   "name": "python",
   "nbconvert_exporter": "python",
   "pygments_lexer": "ipython3",
   "version": "3.8.2"
  }
 },
 "nbformat": 4,
 "nbformat_minor": 4
}
