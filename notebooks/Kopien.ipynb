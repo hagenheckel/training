{
 "cells": [
  {
   "cell_type": "markdown",
   "metadata": {
    "slideshow": {
     "slide_type": "slide"
    }
   },
   "source": [
    "#  Willkommen\n",
    "## Mein Name ist Hagen und ich möchte Ihnen die Programmiersprache Python <b>effizient</b> näherbringen.\n",
    "## Sie lernen <b>nur was Sie wirklich brauchen</b>. Haben Sie die <b>Konzepte verstanden</b>, können sie <b>Details</b> in der Dokumentation <b>nachschlagen</b>."
   ]
  },
  {
   "cell_type": "markdown",
   "metadata": {
    "slideshow": {
     "slide_type": "slide"
    }
   },
   "source": [
    "# Kopien"
   ]
  },
  {
   "cell_type": "markdown",
   "metadata": {
    "slideshow": {
     "slide_type": "fragment"
    }
   },
   "source": [
    "## Übersicht\n",
    "\n",
    "<ul>\n",
    "    <li>Zuweisung von Variablen</li>\n",
    "    <li>id()</li>\n",
    "    <li>Zuweisung von Listen</li>\n",
    "    <li>Tiefes Kopieren</li>\n",
    "</ul>"
   ]
  },
  {
   "cell_type": "markdown",
   "metadata": {},
   "source": [
    "## Zuweisung von Variablen"
   ]
  },
  {
   "cell_type": "markdown",
   "metadata": {
    "slideshow": {
     "slide_type": "slide"
    }
   },
   "source": [
    "Kommt man zum Beispiel von einer Programmiersprache wie C, ist man es gewohnt, dass man sich um die Verwaltung des Speicherplatzes selber kümmern muss. Python versucht mit dem Speicherplatz \"hinter den Kulissen\" möglich optimal umzugehen. Das ist für den Programmierer natürlich angenehm, trotzdem sollte man ein bischen hinter eben diese Kulissen schauen, um sich schwer zu identifizierende Fehler zu ersparen."
   ]
  },
  {
   "cell_type": "code",
   "execution_count": null,
   "metadata": {},
   "outputs": [],
   "source": [
    "Wir beginnen mit einem einfachen Beispiel und vereinbaren zwei Variablen:"
   ]
  },
  {
   "cell_type": "code",
   "execution_count": null,
   "metadata": {},
   "outputs": [],
   "source": [
    "a = 15\n",
    "b = a"
   ]
  },
  {
   "cell_type": "markdown",
   "metadata": {},
   "source": [
    "Die Variable a zeigt auf den Speicherplatz in dem die 15 abgelegt ist. Für die Variable b wird jetzt aber um Speicher zu sparen, nicht noch einmal irgendwo die 15 gespeichert, sondern b zeigt einfach auf die gleiche Stelle wie a. Woher man das weiß? Die Funktion id() liefert uns die Identität eines Objektes. Die Identität ist einfach ein eindeutiger Integer-Wert der für die Lebenszeit eines Objektes konstant bleibt."
   ]
  },
  {
   "cell_type": "code",
   "execution_count": null,
   "metadata": {},
   "outputs": [],
   "source": [
    "print(id(a),id(b))"
   ]
  },
  {
   "cell_type": "markdown",
   "metadata": {},
   "source": [
    "Was passiert abr, wenn man jetzt a einen anderen Wert zuweist? Python merkt das und weist jetzt b eine neue Speicherzelle zu."
   ]
  },
  {
   "cell_type": "code",
   "execution_count": null,
   "metadata": {},
   "outputs": [],
   "source": [
    "a = 12\n",
    "print(b)\n",
    "print(id(a),id(b))"
   ]
  },
  {
   "cell_type": "markdown",
   "metadata": {
    "slideshow": {
     "slide_type": "slide"
    }
   },
   "source": [
    "Man sieht dass a eine neue (eigene) Identität bekommen hat und b nach wie vor auf die '15' zeigt. Manchmal  sagt man auch 'referenziert'."
   ]
  },
  {
   "cell_type": "markdown",
   "metadata": {
    "scrolled": true
   },
   "source": [
    "Es lässt sich nun trefflich darüber streiten ob dieser Aufwand im Falle von Integer-Variablen gerechtfertigt ist, oder ob es nicht einfacher gewesen wäre, für b gleich eine eigene Speicherzelle anzulegen. Ein grosser Vorteil von Python ist, dass man auch mit grossen Speicherobjekten wie Listen oder Dictionaries relativ problemlos hantieren kann. In diesem Fall macht es dann aber sehr wohl etwas aus wie sparsam man mit dem Speicher umgeht."
   ]
  },
  {
   "cell_type": "markdown",
   "metadata": {},
   "source": [
    "## Zuweisung von Listen"
   ]
  },
  {
   "cell_type": "markdown",
   "metadata": {},
   "source": [
    "Wir betrachten jetzt die \"Kopier-Problematik\" am Beispiel von Listen."
   ]
  },
  {
   "cell_type": "code",
   "execution_count": null,
   "metadata": {
    "scrolled": true
   },
   "outputs": [],
   "source": [
    "l1 = [\"Hund\",\"Katze\",\"Maus\"]\n",
    "l2 = l1\n",
    "print(id(l1),id(l2))"
   ]
  },
  {
   "cell_type": "markdown",
   "metadata": {},
   "source": [
    "Die Zuweisung von Listen funktioniert also genau wie bei Variablen, es wird für l2 einfach eine Referenz auf die gleichen Daten erzeugt."
   ]
  },
  {
   "cell_type": "markdown",
   "metadata": {},
   "source": [
    "Was passiert jetzt aber, wenn wir die 'Maus' gegen einen 'Vogel' austauschen?"
   ]
  },
  {
   "cell_type": "code",
   "execution_count": null,
   "metadata": {},
   "outputs": [],
   "source": [
    "l2[2] = \"Vogel\"\n",
    "print(l1)"
   ]
  },
  {
   "cell_type": "markdown",
   "metadata": {},
   "source": [
    "Während Python bei den Variablen gemerkt hat, daß sich der Wert bei der Kopie geändert hat, tut es dies bei der Liste <b>nicht</b>. Für den Interpreter ist die Liste immer noch eine Liste mit 3 Werten, dass sich einer der Werte geändert hat interessiert ihn nicht. Deshalb wirkt sich die Änderung in l2 auch auf l1 aus, weil beide auf die gleichen Daten zeigen."
   ]
  },
  {
   "cell_type": "markdown",
   "metadata": {},
   "source": [
    "## Kopieren von Listen"
   ]
  },
  {
   "cell_type": "markdown",
   "metadata": {},
   "source": [
    "Um diesem Problem aus dem Weg zu gehen, kann man die Kopie einer Liste anstatt mit dem Gleichheitszeichen,  mit der Klassenmethode <tt>copy()</tt> erzeugen."
   ]
  },
  {
   "cell_type": "code",
   "execution_count": null,
   "metadata": {},
   "outputs": [],
   "source": [
    "l1 = [\"Hund\",\"Katze\",\"Maus\"]\n",
    "l2 = l1.copy()\n",
    "print(id(l1),id(l2))\n",
    "l2[2] = \"Vogel\"\n",
    "print(l1)\n",
    "print(l2)"
   ]
  },
  {
   "cell_type": "markdown",
   "metadata": {},
   "source": [
    "Und siehe da, l1 und l2 haben unterschiedliche id's und der 'Vogel' in l2 verdrängt nicht die 'Maus' in l1."
   ]
  },
  {
   "cell_type": "markdown",
   "metadata": {},
   "source": [
    "Problem gelöst? Leider noch nicht ganz. Das Kopieren mit der Klassenmethode copy() funktioniert nur, solange die Liste aus \"normalen\" Elementen wie ints, floats und strings besteht. Kommen als Listenelemente selber wieder Listen und Tupel vor geht auch das Kopieren mit <tt>copy()</tt> schief. Enthält eine Liste, wieder eine Liste benötigt man die Funktion <tt>deepcopy()</tt> aus dem Modul <tt>copy</tt>. "
   ]
  },
  {
   "cell_type": "code",
   "execution_count": null,
   "metadata": {},
   "outputs": [],
   "source": [
    "from copy import deepcopy\n",
    "liste1 = [\"Hund\",\"Katze\",[\"Spitzmaus\",\"Fledermaus\"]]\n",
    "liste2 = deepcopy(liste1)"
   ]
  },
  {
   "cell_type": "markdown",
   "metadata": {
    "slideshow": {
     "slide_type": "slide"
    }
   },
   "source": [
    "Weitere Infos (Notebooks zum Video, Python-Probleme...) finden Sie auf <br>www.hagenheckel.de <br>und auf meinem <br>Github-Repository \"hagenheckel/training\"."
   ]
  }
 ],
 "metadata": {
  "kernelspec": {
   "display_name": "Python 3",
   "language": "python",
   "name": "python3"
  },
  "language_info": {
   "codemirror_mode": {
    "name": "ipython",
    "version": 3
   },
   "file_extension": ".py",
   "mimetype": "text/x-python",
   "name": "python",
   "nbconvert_exporter": "python",
   "pygments_lexer": "ipython3",
   "version": "3.8.2"
  }
 },
 "nbformat": 4,
 "nbformat_minor": 4
}
