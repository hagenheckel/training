{
 "cells": [
  {
   "cell_type": "markdown",
   "metadata": {
    "slideshow": {
     "slide_type": "slide"
    }
   },
   "source": [
    "#  Willkommen\n",
    "## Mein Name ist Hagen und ich möchte Ihnen die Programmiersprache Python <b>effizient</b> näherbringen.\n",
    "## Sie lernen <b>nur was Sie wirklich brauchen</b>. Haben Sie die <b>Konzepte verstanden</b>, können sie <b>Details</b> in der Dokumentation <b>nachschlagen</b>."
   ]
  },
  {
   "cell_type": "markdown",
   "metadata": {
    "slideshow": {
     "slide_type": "slide"
    }
   },
   "source": [
    "# Verzweigungen"
   ]
  },
  {
   "cell_type": "markdown",
   "metadata": {
    "slideshow": {
     "slide_type": "fragment"
    }
   },
   "source": [
    "## Übersicht\n",
    "\n",
    "<ul>\n",
    "    <li>if Anweisung mit elif und else Zweigen</li>\n",
    "    <li>Vergleichsoperatoren</li>\n",
    "    <li>Logische Operatoren in Vergleichen</li>\n",
    "    <li>Was ist Wahr und Falsch</li>\n",
    "</ul>"
   ]
  },
  {
   "cell_type": "markdown",
   "metadata": {
    "slideshow": {
     "slide_type": "slide"
    }
   },
   "source": [
    "Der Ausgangspunkt unserer Betrachtungen liegt in der bedingten Anweisung<br>\n",
    "<b>Wenn</b> eine Bedingung wahr ist, <b>dann</b> mache etwas.<br> Als Python-Code würde es so aussehen:"
   ]
  },
  {
   "cell_type": "code",
   "execution_count": null,
   "metadata": {},
   "outputs": [],
   "source": [
    "if Ausdruck ist True:\n",
    "    Anweisungen"
   ]
  },
  {
   "cell_type": "markdown",
   "metadata": {
    "slideshow": {
     "slide_type": "fragment"
    }
   },
   "source": [
    "Als Erweiterung dieses Konzeptes bietet Python die Möglichkeit zusätzlich eine Anweisung auszuführen wenn die Bedingung falsch sein sollte, also<br>\n",
    "<b>Wenn</b> eine Bedingung wahr ist, <b>dann</b> mache etwas, <b>andernfalls</b> mache etwas anderes."
   ]
  },
  {
   "cell_type": "code",
   "execution_count": null,
   "metadata": {
    "slideshow": {
     "slide_type": "slide"
    }
   },
   "outputs": [],
   "source": [
    "if Ausdruck ist True:\n",
    "    Anweisungen\n",
    "else:\n",
    "    Anweisungen"
   ]
  },
  {
   "cell_type": "markdown",
   "metadata": {},
   "source": [
    "Als Beispiel versuchen wir uns an folgender Anwendung: ein Sonnenschutz soll eingefahren werden, wenn die Windgeschwindigkeit über 20 km/h liegt. Der Code dazu könnte folgendermassen aussehen:"
   ]
  },
  {
   "cell_type": "code",
   "execution_count": 1,
   "metadata": {
    "slideshow": {
     "slide_type": "fragment"
    }
   },
   "outputs": [
    {
     "name": "stdout",
     "output_type": "stream",
     "text": [
      "Windgeschwindigkeit 18 km/h. Sonnenschutz ausgefahren\n"
     ]
    }
   ],
   "source": [
    "v = 18\n",
    "if v > 20:\n",
    "    print(\"Windgeschwindigkeit {} km/h. Sonnenschutz eingefahren\".format(v))\n",
    "else:\n",
    "    print(\"Windgeschwindigkeit {} km/h. Sonnenschutz ausgefahren\".format(v))"
   ]
  },
  {
   "cell_type": "markdown",
   "metadata": {
    "slideshow": {
     "slide_type": "slide"
    }
   },
   "source": [
    "Für die Praxis taugt dieses Programm noch nichts, denn was würde passieren, wenn der Wind um die 20 km/h schwankt? Der Sonnenschutz würde die ganze Zeit ein- und ausfahren. Deshalb wollen wir den Sonnenschutz erst wieder ausfahren, wenn der Wind schwächer als 15 km/h ist. Dazu bietet Python die Anweisung <tt>elif</tt> als Abkürzung von 'else if'."
   ]
  },
  {
   "cell_type": "code",
   "execution_count": 2,
   "metadata": {
    "slideshow": {
     "slide_type": "fragment"
    }
   },
   "outputs": [
    {
     "name": "stdout",
     "output_type": "stream",
     "text": [
      "Windgeschwindigkeit 12 km/h. Sonnenschutz ausfahren\n"
     ]
    }
   ],
   "source": [
    "v = 12\n",
    "\n",
    "if v > 20:\n",
    "    print(\"Windgeschwindigkeit {} km/h. Sonnenschutz einfahren\".format(v))\n",
    "elif v < 15:\n",
    "    print(\"Windgeschwindigkeit {} km/h. Sonnenschutz ausfahren\".format(v))\n",
    "else:\n",
    "    print(\"Windgeschwindigkeit zwischen 15 und 20 km/h. Sonnenschutz bleibt wo er ist.\".format(v))"
   ]
  },
  {
   "cell_type": "markdown",
   "metadata": {
    "slideshow": {
     "slide_type": "slide"
    }
   },
   "source": [
    "Bisher haben wir in unserer Bedingung nur > größer oder < kleiner verwendet. Es gibt jedoch noch andere Vergleichsoperatoren."
   ]
  },
  {
   "cell_type": "code",
   "execution_count": null,
   "metadata": {
    "slideshow": {
     "slide_type": "fragment"
    }
   },
   "outputs": [],
   "source": [
    "        # Prüfung auf\n",
    "==      # Gleichheit\n",
    "!=      # Ungleichheit\n",
    "<=      # kleiner gleich\n",
    ">=      # größer gleich"
   ]
  },
  {
   "cell_type": "markdown",
   "metadata": {
    "slideshow": {
     "slide_type": "slide"
    }
   },
   "source": [
    "Man kann diese Vergleichsoperatoren auch mit den logischen Operatoren <tt>and, or</tt> und <tt>not</tt> kombinieren. Oft verwendet man <tt>and</tt> um numerische Bereiche zu definieren, wie in folgendem Beispiel, das den Aggregatszustand von Wasser ausgibt."
   ]
  },
  {
   "cell_type": "code",
   "execution_count": 3,
   "metadata": {
    "slideshow": {
     "slide_type": "fragment"
    }
   },
   "outputs": [
    {
     "name": "stdout",
     "output_type": "stream",
     "text": [
      "Wasser ist flüssig\n"
     ]
    }
   ],
   "source": [
    "temperatur = 72\n",
    "if temperatur < 0:\n",
    "    print(\"Wasser ist gefroren\")\n",
    "elif temperatur >= 0 and temperatur < 100:\n",
    "    print(\"Wasser ist flüssig\")\n",
    "else:\n",
    "    print(\"Wasserdampf\")"
   ]
  },
  {
   "cell_type": "markdown",
   "metadata": {
    "slideshow": {
     "slide_type": "slide"
    }
   },
   "source": [
    "Am Ende werten <tt>if</tt> und <tt>elif</tt> aus, ob die Bedingung Wahr (True) oder Falsch (False) ist. Aber was ist eigentlich Wahr? <b>In Python ist alles Wahr was nicht Falsch ist.</b>  Falsch ist folgendes:\n",
    "<ul>\n",
    "    <li>Die numerische Null sei es int, float oder hex</li>\n",
    "    <li>False als boolscher Wert</li>\n",
    "    <li>Ein leerer String</li>\n",
    "    <li>Leere Listen, Tupel oder Dictionaries</li>\n",
    "    <li>None</li>\n",
    "</ul>"
   ]
  },
  {
   "cell_type": "code",
   "execution_count": 4,
   "metadata": {
    "slideshow": {
     "slide_type": "fragment"
    }
   },
   "outputs": [
    {
     "name": "stdout",
     "output_type": "stream",
     "text": [
      "False\n"
     ]
    }
   ],
   "source": [
    "a = 0.0      # float\n",
    "b = \"\"       # String\n",
    "c = False    # boolean\n",
    "d = None     # None\n",
    "e = []       # leere Liste\n",
    "f = ()       # leerer Tupel\n",
    "\n",
    "if a or b or c or d or e or f:\n",
    "    print(\"True\")\n",
    "else:\n",
    "    print(\"False\")"
   ]
  },
  {
   "cell_type": "markdown",
   "metadata": {
    "slideshow": {
     "slide_type": "slide"
    }
   },
   "source": [
    "Weitere Infos (Notebooks zum Video, Python-Probleme...) finden Sie auf <br>www.hagenheckel.de <br>und auf meinem <br>Github-Repository \"hagenheckel/training\"."
   ]
  }
 ],
 "metadata": {
  "kernelspec": {
   "display_name": "Python 3",
   "language": "python",
   "name": "python3"
  },
  "language_info": {
   "codemirror_mode": {
    "name": "ipython",
    "version": 3
   },
   "file_extension": ".py",
   "mimetype": "text/x-python",
   "name": "python",
   "nbconvert_exporter": "python",
   "pygments_lexer": "ipython3",
   "version": "3.8.2"
  }
 },
 "nbformat": 4,
 "nbformat_minor": 4
}
