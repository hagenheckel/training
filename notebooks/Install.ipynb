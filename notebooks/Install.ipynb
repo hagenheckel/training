{
 "cells": [
  {
   "cell_type": "markdown",
   "metadata": {
    "slideshow": {
     "slide_type": "slide"
    }
   },
   "source": [
    "<h1> Willkommen </h1>\n",
    "Mein Name ist Hagen und ich möchte Ihnen die Programmiersprache Python <b>effizient</b> näherbringen.\n",
    "Sie lernen <b>nur was Sie wirklich brauchen</b>. Haben Sie die <b>Konzepte verstanden</b>, können sie <b>Details</b> in der Dokumentation <b>nachschlagen</b>."
   ]
  },
  {
   "cell_type": "markdown",
   "metadata": {
    "slideshow": {
     "slide_type": "slide"
    }
   },
   "source": [
    "# Motivation und Installation"
   ]
  },
  {
   "cell_type": "markdown",
   "metadata": {
    "slideshow": {
     "slide_type": "fragment"
    }
   },
   "source": [
    "## Übersicht\n",
    "\n",
    "<ul>\n",
    "    <li>Warum soll man Python lernen?</li>\n",
    "    <li>Python installieren.</li>\n",
    "    <li>Die interaktive Shell.</li>\n",
    "    <li>Ein Programm schreiben.</li>\n",
    "    <li>Sourcecode und Bytecode.</li>\n",
    "</ul>"
   ]
  },
  {
   "cell_type": "markdown",
   "metadata": {},
   "source": [
    "## Motivation"
   ]
  },
  {
   "cell_type": "markdown",
   "metadata": {
    "slideshow": {
     "slide_type": "slide"
    }
   },
   "source": [
    "Warum soll man eigentlich Python lernen? Ich möchte Ihnen hier nicht erzählen, warum sie überhaupt programmieren lernen sollten. Aber ich möchte einige Argumente zusammentragen, warum Python wahrscheinlich die richtige Wahl für Sie ist.\n",
    "<ul>\n",
    "    <li>Python ist einfach zu lernen! Der Weg von der Idee zum Programmcode ist bei Python kürzer als bei den meisten anderen Programmiersprachen. Um viele rein programmtechnische Details, wie Deklaration von Variablen, Speicherplatzverwaltung, etc. kümmert sich Python selbst und entlastet Sie als Programmierer.</li>\n",
    "    <li>Für Python gibt es eine schier unübersehbare Anzahl von frei verfügbaren Modulen, die sie nach Belieben in ihre Programme einbinden können. Von graphischen Oberflächen, über Tensorrechnung bis zur Gesichtserkennung ist alles schon da, sie brauchen das Rad nicht jedesmal neu erfinden.</li>\n",
    "    <li>Kenntnisse in Python werden an vielen Universitäten und ganz allgemein in der Wissenschafts-Community vorausgesetzt. Auch in der Robotik und im Bereich der kleinen Ein-Platinen-Computer hat Python eine immer größer werdende Bedeutung.</li>\n",
    "    <li>Python macht Spaß, denn man erzielt schnelle Erfolge und kann durch den Einsatz von Modulen mit wenig Programmcode viel erreichen.</li>\n",
    "</ul>"
   ]
  },
  {
   "cell_type": "markdown",
   "metadata": {},
   "source": [
    "Beim Erlernen einer Programmiersprache ist es wichtig, selber Hand an zu legen. Noch nie hat jemand Python, C oder Java gelernt, indem er ein Buch las oder ein Video angeschaut hat. Deshalb sollten Sie alle Beispiele die sie hier sehen am eigenen Rechner nachvollziehen. "
   ]
  },
  {
   "cell_type": "markdown",
   "metadata": {},
   "source": [
    "## Installation"
   ]
  },
  {
   "cell_type": "markdown",
   "metadata": {},
   "source": [
    "### Linux\n",
    "Bei fast allen Linux-Distributionen ist Python bereits installiert und sie können direkt loslegen. Wenn sie ein Terminal-Fenster öffnen und <tt>python3</tt> eingeben, startet die interaktive Shell und wartet auf ihre Eingaben."
   ]
  },
  {
   "cell_type": "code",
   "execution_count": null,
   "metadata": {},
   "outputs": [],
   "source": [
    "hagen@thinkpad:~$ python3\n",
    "Python 3.8.2 \n",
    "[GCC 9.3.0] on linux\n",
    "Type \"help\", \"copyright\", \"credits\" or \"license\" for more information.\n",
    ">>> "
   ]
  },
  {
   "cell_type": "markdown",
   "metadata": {},
   "source": [
    "### Windows\n",
    "Hier ist Python nicht vorinstalliert. Sie gehen auf www.python.org/downloads und laden sich den 'Latest Python3 Release' herunter. Dieser läuft allerdings nicht auf Windows XP oder älter. Es gibt im Web auch Python-Installer, die ihnen Python auf den Rechner spielen. "
   ]
  },
  {
   "cell_type": "markdown",
   "metadata": {},
   "source": [
    "### macOS\n",
    "Hier gibt es für Python3 nur einen 64-bit Installer, der auf macOS 10.9 (Mavericks) oder neuer läuft. Zu finden ebenfalls unter www.python.ord/downloads"
   ]
  },
  {
   "cell_type": "markdown",
   "metadata": {},
   "source": [
    "Egal auf welchem Betriebssystem sie arbeiten, irgendwann haben Sie es geschafft die Python-Shell zu starten. Hier können Sie direkt Befehle eingeben und die Ausgaben vefolgen. Bei Python müssen Sie ihre Programme vor dem Ausführen nicht erst kompilieren. Dies wird im Hintergrund für sie erledigt, in dem Moment in dem sie auf <tt>Enter</tt> drücken. Wir wollen hier als Test das obligatorische \"Hallo Welt\" ausgeben."
   ]
  },
  {
   "cell_type": "code",
   "execution_count": null,
   "metadata": {},
   "outputs": [],
   "source": [
    "hagen@thinkpad:~$ python3\n",
    "Python 3.8.2\n",
    "[GCC 9.3.0] on linux\n",
    "Type \"help\", \"copyright\", \"credits\" or \"license\" for more information.\n",
    ">>> print(\"Hallo Welt\")\n",
    "Hallo Welt\n",
    ">>> "
   ]
  },
  {
   "cell_type": "markdown",
   "metadata": {},
   "source": [
    "## Ein Programm schreiben"
   ]
  },
  {
   "cell_type": "markdown",
   "metadata": {
    "slideshow": {
     "slide_type": "slide"
    }
   },
   "source": [
    "Auch wenn wir während diesem Kurs fast alles in der interaktiven Shell erledigen, müssen sie natürlich auch wissen, wie man ein richtiges Programm schreibt und ausführt. Dazu benötigen sie einen Editor, der in aller Regel schon auf ihrem Rechner vorhanden ist. Empfehlenswert ist eine Version, die ihr Python-Programm an der Endung .py erkennt und den Code durch entsprechende Farbgebung ansprechend und übersichtlich darstellt. Was Sie zum Lernen definitiv nicht brauchen ist eine IDE, eine integrierte Entwicklungsumgebung. Die vielen Features einer solchen sind für den Anfänger verwirrend und lenken vom eigentlichen Ziel ab. "
   ]
  },
  {
   "cell_type": "markdown",
   "metadata": {},
   "source": [
    "Wir wollen jetzt ein etwas \"komplizierteres\" Hallo-Welt Programm schreiben. Wenn sie die Befehle darin nicht verstehen ist das kein Problem, es geht hier nur um die Vorgehensweise. Sie öffnen also den Editor ihrer Wahl, geben folgendes ein und speichern die Datei in ihrem Arbeitsverzeichnis unter hallowelt.py ab."
   ]
  },
  {
   "cell_type": "code",
   "execution_count": null,
   "metadata": {
    "scrolled": true
   },
   "outputs": [],
   "source": [
    "for i in range(5):\n",
    "    print(i,\"Hallo Welt\")"
   ]
  },
  {
   "cell_type": "markdown",
   "metadata": {},
   "source": [
    "Jetzt können Sie, ohne die Python-Shell zu starten, ihr Programm direkt im Terminal starten. Es gibt 5-mal \"Hallo Welt\" aus."
   ]
  },
  {
   "cell_type": "code",
   "execution_count": null,
   "metadata": {},
   "outputs": [],
   "source": [
    "hagen@thinkpad:~/Python$ python3 hallowelt.py\n",
    "0 Hallo Welt\n",
    "1 Hallo Welt\n",
    "2 Hallo Welt\n",
    "3 Hallo Welt\n",
    "4 Hallo Welt"
   ]
  },
  {
   "cell_type": "markdown",
   "metadata": {},
   "source": [
    "Hier noch eine Anmerkung zu unserem Programmcode:"
   ]
  },
  {
   "cell_type": "code",
   "execution_count": null,
   "metadata": {
    "scrolled": true
   },
   "outputs": [],
   "source": [
    "for i in range(5):\n",
    "    print(i,\"Hallo Welt\")"
   ]
  },
  {
   "cell_type": "markdown",
   "metadata": {},
   "source": [
    "Die erste Zeile ist eine sogenannte \"Schleife\". Sie sagt \"Führe den folgenden Block 5-mal aus\". Den Block erkennt Python daran, dass er eingerückt ist! Das ist ein kleiner Knackpunkt, denn im Gegensatz zu anderen Programmiersprachen sind Einrückungen bei Python nicht nur zur besseren Lesbarkeit da, sie sind integraler Bestandteil des Codes. Deshalb achten Sie auf die Einstellungen ihres Editors. Wenn sie einmal mit Tabulatoren und einmal mit Leerzeichen einrücken, kommt Python leicht durcheinander und beschwert sich mit einer Fehlermeldung (IndentationError - Einrückungsfehler)."
   ]
  },
  {
   "cell_type": "code",
   "execution_count": 1,
   "metadata": {},
   "outputs": [
    {
     "ename": "IndentationError",
     "evalue": "unexpected indent (<ipython-input-1-a50626240aa7>, line 3)",
     "output_type": "error",
     "traceback": [
      "\u001b[0;36m  File \u001b[0;32m\"<ipython-input-1-a50626240aa7>\"\u001b[0;36m, line \u001b[0;32m3\u001b[0m\n\u001b[0;31m    print(\"Nochmal Hallo Welt falsch eingerückt\")\u001b[0m\n\u001b[0m    ^\u001b[0m\n\u001b[0;31mIndentationError\u001b[0m\u001b[0;31m:\u001b[0m unexpected indent\n"
     ]
    }
   ],
   "source": [
    "for i in range(5):\n",
    "    print(i,\"Hallo Welt\")\n",
    "     print(\"Nochmal Hallo Welt falsch eingerückt\")"
   ]
  },
  {
   "cell_type": "markdown",
   "metadata": {},
   "source": [
    "## Bytecode"
   ]
  },
  {
   "cell_type": "markdown",
   "metadata": {},
   "source": [
    "Am Ende dieses Kapitels noch ein kleiner theoretischer Background. Python wird in der Regel als \"Interpreter-Sprache\" bezeichnet, d.h. der Code wird dann übersetzt, wenn man in ausführt. Das ist nicht ganz richtig.<br>\n",
    "Der Quell- oder Sourcecode, den sie im Editor geschrieben haben, wird \"hinter den Kulissen\" in den sogenannten \"Bytecode\" compiliert. Sie erkennen ihn in ihren Verzeichnissen an der Endung <tt>.pyc</tt>. Dieser Bytecode ist nicht abhängig vom Betriebssystem, sie können ihn also von einem Windows-System auf einen Linuxrechner kopieren und dort ausführen ohne ihn neu zu übersetzen. Das Ausführen übernimmt dann der auf dem jeweiligen Rechner installierte Interpreter, die \"Python Virtual Machine PVM\"."
   ]
  },
  {
   "cell_type": "markdown",
   "metadata": {},
   "source": [
    "## Üben, üben, üben, ....\n",
    "Wie gesagt lernt man eine Programmiersprache nur mit Üben. Deshalb biete ich ihnen meinen Unterricht als Jupyter Notebooks zum Download auf https://github.com/hagenheckel/training. Dort finden Sie auch Hausaufgaben zum jeweiligen Thema."
   ]
  },
  {
   "cell_type": "markdown",
   "metadata": {
    "slideshow": {
     "slide_type": "slide"
    }
   },
   "source": [
    "Weitere Infos (Notebooks zum Video, Python-Probleme...) finden Sie auf <br>www.hagenheckel.de <br>und auf meinem <br>Github-Repository \"hagenheckel/training\"."
   ]
  }
 ],
 "metadata": {
  "kernelspec": {
   "display_name": "Python 3",
   "language": "python",
   "name": "python3"
  },
  "language_info": {
   "codemirror_mode": {
    "name": "ipython",
    "version": 3
   },
   "file_extension": ".py",
   "mimetype": "text/x-python",
   "name": "python",
   "nbconvert_exporter": "python",
   "pygments_lexer": "ipython3",
   "version": "3.8.2"
  }
 },
 "nbformat": 4,
 "nbformat_minor": 4
}
