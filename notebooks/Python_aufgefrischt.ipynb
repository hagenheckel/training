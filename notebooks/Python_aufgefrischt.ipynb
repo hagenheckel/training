{
 "cells": [
  {
   "cell_type": "markdown",
   "metadata": {
    "slideshow": {
     "slide_type": "slide"
    }
   },
   "source": [
    "# Python aufgefrischt"
   ]
  },
  {
   "cell_type": "markdown",
   "metadata": {
    "slideshow": {
     "slide_type": "subslide"
    }
   },
   "source": [
    "Diese Unterrichtseinheit wendet sich an alle die \n",
    "\n",
    "<ul>\n",
    "    <li>schon mit Python gearbeitet haben und noch einmal eine kurze Wiederholung benötigen oder</li>\n",
    "    <li>von einer anderen Programmiersprache kommen und den schnellen Einstieg suchen.</li>\n",
    "</ul>\n",
    "\n",
    "<p>Python Programme wirken fast wie Pseudocode und so verringert diese Sprache die Hürde von der Idee zum lauffähigen Programm. Besonders für jemand der von einer eher \"kleinteiligen\" Programmiersprache wie z.B. C kommt, ist diese Art der Programmierung zu Beginn ungewohnt. Es gibt keine expliziten Typvereinbarungen, keine Funktionsdeklarationen, Blöcke werden durch Einrückungen und nicht mit geschweiften Klammern definiert, etc.</p>"
   ]
  },
  {
   "cell_type": "markdown",
   "metadata": {
    "slideshow": {
     "slide_type": "slide"
    }
   },
   "source": [
    "## Lernziele\n",
    "\n",
    "<ul>\n",
    "    <li>Datentypen und Operatoren</li>\n",
    "    <li>Logische Ausdrücke</li>\n",
    "    <li>Strings</li>\n",
    "    <li>Listen</li>\n",
    "    <li>Dictionaries</li>\n",
    "    <li>Sets</li>\n",
    "    <li>Tupel</li>\n",
    "    <li>Funktionen</li>\n",
    "    <li>Klassen</li>\n",
    "</ul>"
   ]
  },
  {
   "cell_type": "markdown",
   "metadata": {
    "slideshow": {
     "slide_type": "slide"
    }
   },
   "source": [
    "<p> Für mehrere Jahre existierten zwei Python-Versionen parallel: Python 2 und Python 3. Seit dem 1. Januar 2020 wurde die offizielle Unterstützung für Python 2 jedoch eingestellt und auch hier verwenden wir Python 3. Deshalb testen Sie bitte zuerst die installierte Version auf ihrem Rechner.</p>"
   ]
  },
  {
   "cell_type": "code",
   "execution_count": 1,
   "metadata": {
    "slideshow": {
     "slide_type": "subslide"
    }
   },
   "outputs": [
    {
     "name": "stdout",
     "output_type": "stream",
     "text": [
      "Python 3.8.2\r\n"
     ]
    }
   ],
   "source": [
    "!python3 --version"
   ]
  },
  {
   "cell_type": "markdown",
   "metadata": {
    "slideshow": {
     "slide_type": "slide"
    }
   },
   "source": [
    "## Datentypen und Operatoren"
   ]
  },
  {
   "cell_type": "markdown",
   "metadata": {
    "slideshow": {
     "slide_type": "subslide"
    }
   },
   "source": [
    "<p>Natürlich unterscheidet auch Python zwischen unterschiedlichen Datentypen wie z.B. <tt>int</tt> oder <tt>float</tt>. Sie werden nur in der Regel nicht explizit zugewiesen, sondern Python bestimmt den Datentyp selbst aus der Art und Weise wie ein Wert zugewiesen wird.</p>"
   ]
  },
  {
   "cell_type": "code",
   "execution_count": 2,
   "metadata": {
    "slideshow": {
     "slide_type": "subslide"
    }
   },
   "outputs": [
    {
     "name": "stdout",
     "output_type": "stream",
     "text": [
      "4 <class 'int'>\n",
      "4.0 <class 'float'>\n"
     ]
    }
   ],
   "source": [
    "x = 4\n",
    "print(x, type(x))\n",
    "z = float(x)          # explizite Typumwandlung\n",
    "print(z,type(z))"
   ]
  },
  {
   "cell_type": "code",
   "execution_count": 3,
   "metadata": {
    "slideshow": {
     "slide_type": "subslide"
    }
   },
   "outputs": [
    {
     "name": "stdout",
     "output_type": "stream",
     "text": [
      "4 <class 'int'>\n",
      "4.0 <class 'float'>\n",
      "8.0 <class 'float'>\n"
     ]
    }
   ],
   "source": [
    "x = 4\n",
    "y = 4.0\n",
    "w = x + y             # implizite Typumwandlung\n",
    "print(x,type(x))\n",
    "print(y, type(y))\n",
    "print(w, type(w))"
   ]
  },
  {
   "cell_type": "markdown",
   "metadata": {
    "slideshow": {
     "slide_type": "subslide"
    }
   },
   "source": [
    "Die gängigsten Operatoren entsprechen denjenigen aus anderen Programmiersprachen. Den <tt>++</tt> und <tt>--</tt> Operator gibt es allerdings nicht."
   ]
  },
  {
   "cell_type": "code",
   "execution_count": 4,
   "metadata": {
    "slideshow": {
     "slide_type": "subslide"
    }
   },
   "outputs": [
    {
     "name": "stdout",
     "output_type": "stream",
     "text": [
      "5\n",
      "3\n",
      "8\n",
      "16\n"
     ]
    }
   ],
   "source": [
    "print(x + 1)   # addieren\n",
    "print(x - 1)   # subtrahieren\n",
    "print(x * 2)   # multiplizieren\n",
    "print(x ** 2)  # potenzieren"
   ]
  },
  {
   "cell_type": "code",
   "execution_count": 5,
   "metadata": {
    "slideshow": {
     "slide_type": "subslide"
    }
   },
   "outputs": [
    {
     "name": "stdout",
     "output_type": "stream",
     "text": [
      "5\n",
      "10\n"
     ]
    }
   ],
   "source": [
    "x += 1       # entspricht x = x + 1\n",
    "print(x)\n",
    "x *= 2       # entspricht x = x * 2\n",
    "print(x)"
   ]
  },
  {
   "cell_type": "code",
   "execution_count": 6,
   "metadata": {
    "slideshow": {
     "slide_type": "subslide"
    }
   },
   "outputs": [
    {
     "name": "stdout",
     "output_type": "stream",
     "text": [
      "3\n",
      "1\n"
     ]
    }
   ],
   "source": [
    "print(x // 3)    # Ganzzahldivision ohne Rest    \n",
    "print(x % 3)     # Modulo-Operator (nur der Rest)"
   ]
  },
  {
   "cell_type": "markdown",
   "metadata": {
    "slideshow": {
     "slide_type": "slide"
    }
   },
   "source": [
    "### Booleans"
   ]
  },
  {
   "cell_type": "markdown",
   "metadata": {
    "slideshow": {
     "slide_type": "subslide"
    }
   },
   "source": [
    "<p> Python bietet alle üblichen logischen Ausdrücke. Logische Operatoren werden ausgeschrieben, Symbole wie z.B. <tt>&&</tt> oder <tt>||</tt> existieren nicht. <tt>True</tt> und <tt>False</tt> werden groß geschrieben."
   ]
  },
  {
   "cell_type": "code",
   "execution_count": 7,
   "metadata": {
    "slideshow": {
     "slide_type": "slide"
    }
   },
   "outputs": [
    {
     "name": "stdout",
     "output_type": "stream",
     "text": [
      "<class 'bool'>\n"
     ]
    }
   ],
   "source": [
    "t, f = True, False\n",
    "print(type(t))"
   ]
  },
  {
   "cell_type": "code",
   "execution_count": 8,
   "metadata": {
    "slideshow": {
     "slide_type": "subslide"
    }
   },
   "outputs": [
    {
     "ename": "NameError",
     "evalue": "name 'false' is not defined",
     "output_type": "error",
     "traceback": [
      "\u001b[0;31m---------------------------------------------------------------------------\u001b[0m",
      "\u001b[0;31mNameError\u001b[0m                                 Traceback (most recent call last)",
      "\u001b[0;32m<ipython-input-8-e08ba8deb06d>\u001b[0m in \u001b[0;36m<module>\u001b[0;34m\u001b[0m\n\u001b[0;32m----> 1\u001b[0;31m \u001b[0mg\u001b[0m \u001b[0;34m=\u001b[0m \u001b[0mfalse\u001b[0m\u001b[0;34m\u001b[0m\u001b[0;34m\u001b[0m\u001b[0m\n\u001b[0m",
      "\u001b[0;31mNameError\u001b[0m: name 'false' is not defined"
     ]
    }
   ],
   "source": [
    "g = false"
   ]
  },
  {
   "cell_type": "code",
   "execution_count": 9,
   "metadata": {
    "slideshow": {
     "slide_type": "subslide"
    }
   },
   "outputs": [
    {
     "name": "stdout",
     "output_type": "stream",
     "text": [
      "False\n",
      "True\n",
      "False\n",
      "True\n"
     ]
    }
   ],
   "source": [
    "print(t and f) # UND\n",
    "print(t or f)  # ODER\n",
    "print(not t)   # NICHT\n",
    "print(t != f)  # EXKLUSIVES ODER"
   ]
  },
  {
   "cell_type": "markdown",
   "metadata": {
    "slideshow": {
     "slide_type": "slide"
    }
   },
   "source": [
    "## Strings"
   ]
  },
  {
   "cell_type": "markdown",
   "metadata": {
    "slideshow": {
     "slide_type": "subslide"
    }
   },
   "source": [
    "<p>Im Gegensatz zu anderen Programmiersprachen macht es in Python keinen Unterschied ob Strings mit einfachen oder doppelten Hochkommas definiert werden.</p>"
   ]
  },
  {
   "cell_type": "code",
   "execution_count": 10,
   "metadata": {
    "slideshow": {
     "slide_type": "subslide"
    }
   },
   "outputs": [
    {
     "name": "stdout",
     "output_type": "stream",
     "text": [
      "Sommer 6\n"
     ]
    }
   ],
   "source": [
    "s = 'Sommer'   \n",
    "w = \"Winter\"   \n",
    "print(s, len(s))"
   ]
  },
  {
   "cell_type": "markdown",
   "metadata": {
    "slideshow": {
     "slide_type": "subslide"
    }
   },
   "source": [
    "Das Verketten von Strings kann einfach mit dem <tt>+ Operator</tt> erfolgen."
   ]
  },
  {
   "cell_type": "code",
   "execution_count": 11,
   "metadata": {
    "slideshow": {
     "slide_type": "subslide"
    }
   },
   "outputs": [
    {
     "name": "stdout",
     "output_type": "stream",
     "text": [
      "Sommer und Winter\n"
     ]
    }
   ],
   "source": [
    "sw = s + ' und ' + w  \n",
    "print(sw)"
   ]
  },
  {
   "cell_type": "markdown",
   "metadata": {
    "slideshow": {
     "slide_type": "slide"
    }
   },
   "source": [
    "Für die Ausgabe von Strings gibt es zwei Möglichkeiten: \n",
    "<ul>\n",
    "    <li>Die \"alte\" Variante im C-Stil mit %-Zeichen als Platzhalter oder</li>\n",
    "    <li>die \"neue\" Version mit der String-Methode <tt>format</tt>. Dabei werden als \"Platzhalter\" geschweifte Klammern verwendet.</li>\n",
    "</ul>"
   ]
  },
  {
   "cell_type": "code",
   "execution_count": 12,
   "metadata": {
    "slideshow": {
     "slide_type": "subslide"
    }
   },
   "outputs": [
    {
     "name": "stdout",
     "output_type": "stream",
     "text": [
      "Im Sommer ist es wärmer als im Winter\n"
     ]
    }
   ],
   "source": [
    "sw = 'Im {} ist es wärmer als im {}'.format(s, w)\n",
    "print(sw)"
   ]
  },
  {
   "cell_type": "markdown",
   "metadata": {
    "slideshow": {
     "slide_type": "slide"
    }
   },
   "source": [
    "Zum Manipulieren von Strings gibt es eine Menge Funktionen, hier eine Auswahl:"
   ]
  },
  {
   "cell_type": "code",
   "execution_count": 13,
   "metadata": {
    "slideshow": {
     "slide_type": "subslide"
    }
   },
   "outputs": [
    {
     "name": "stdout",
     "output_type": "stream",
     "text": [
      "Sommer\n",
      "SOMMER\n",
      "    sommer\n",
      "  sommer  \n",
      "sokker\n",
      "Winter\n"
     ]
    }
   ],
   "source": [
    "s = \"sommer\"\n",
    "print(s.capitalize())                # Groß schreiben\n",
    "print(s.upper())                     # Großschrift\n",
    "print(s.rjust(10))                   # rechtsbündig ausgeben\n",
    "print(s.center(10))                  # zentriert ausgeben\n",
    "print(s.replace('m', 'k'))           # austauschen von Sub-Strings\n",
    "print('     Winter    '.strip())     # Leerzeichen löschen"
   ]
  },
  {
   "cell_type": "markdown",
   "metadata": {
    "slideshow": {
     "slide_type": "slide"
    }
   },
   "source": [
    "## Container"
   ]
  },
  {
   "cell_type": "markdown",
   "metadata": {
    "slideshow": {
     "slide_type": "subslide"
    }
   },
   "source": [
    "Zu deutsch auch 'sequentielle Datentypen'. Sie gehören in Python zum Kernbestandteil der Sprache und sind einfach zu verwenden."
   ]
  },
  {
   "cell_type": "markdown",
   "metadata": {
    "slideshow": {
     "slide_type": "subslide"
    }
   },
   "source": [
    "### Übersicht\n",
    "\n",
    "<ul>\n",
    "    <li>Listen werden vereinbart mit eckigen Klammern [Wert, Wert, ... , Wert]</li>\n",
    "    <li>Dictionaries werden vereinbart mit geschweiften Klammern {Schlüssel: Wert, ..., Schlüssel: Wert}</li>\n",
    "    <li>Sets werden auch mit geschweiften Klammern vereinbart, enthalten aber nur Werte, keine Wertepaare {Wert, Wert, ..., Wert}.</li>\n",
    "    <li>Tupel werden mit runden Klammern vereinbart (Wert, ..., Wert)</li>\n",
    "</ul>"
   ]
  },
  {
   "cell_type": "markdown",
   "metadata": {
    "slideshow": {
     "slide_type": "slide"
    }
   },
   "source": [
    "### Listen"
   ]
  },
  {
   "cell_type": "markdown",
   "metadata": {
    "slideshow": {
     "slide_type": "subslide"
    }
   },
   "source": [
    "<ul>\n",
    "    <li>vergleichbar mit Arrays,</li> \n",
    "    <li>problemlos in ihrer Größe zu verändern und</li> \n",
    "    <li>können unterschiedliche Datentypen enthalten.</li>\n",
    "</ul>"
   ]
  },
  {
   "cell_type": "code",
   "execution_count": 14,
   "metadata": {
    "slideshow": {
     "slide_type": "subslide"
    }
   },
   "outputs": [
    {
     "name": "stdout",
     "output_type": "stream",
     "text": [
      "[1, 2, 3, 4]\n",
      "3\n",
      "4\n"
     ]
    }
   ],
   "source": [
    "mylist = [1,2,3,4]   # Eine Liste erzeugen\n",
    "print(mylist)        # Eine Liste anzeigen\n",
    "print(mylist[2])     # Ein Element anzeigen, der Index beginnt bei 0\n",
    "print(mylist[-1])    # Ein negativer Index zählt vom Ende der Liste"
   ]
  },
  {
   "cell_type": "code",
   "execution_count": 15,
   "metadata": {
    "slideshow": {
     "slide_type": "subslide"
    }
   },
   "outputs": [
    {
     "name": "stdout",
     "output_type": "stream",
     "text": [
      "[1, 2, 'drei', 4]\n"
     ]
    }
   ],
   "source": [
    "mylist[2] = 'drei'    # Zugriff auf ein Listenelement über den Index\n",
    "print(mylist)"
   ]
  },
  {
   "cell_type": "code",
   "execution_count": 16,
   "metadata": {
    "slideshow": {
     "slide_type": "subslide"
    }
   },
   "outputs": [
    {
     "name": "stdout",
     "output_type": "stream",
     "text": [
      "[1, 2, 'drei', 4, 'fünf']\n"
     ]
    }
   ],
   "source": [
    "mylist.append('fünf') # Ein neues Element am Ende anhängen\n",
    "print(mylist)  "
   ]
  },
  {
   "cell_type": "code",
   "execution_count": 17,
   "metadata": {
    "slideshow": {
     "slide_type": "subslide"
    }
   },
   "outputs": [
    {
     "name": "stdout",
     "output_type": "stream",
     "text": [
      "fünf\n",
      "[1, 2, 'drei', 4]\n"
     ]
    }
   ],
   "source": [
    "end = mylist.pop()     # Das letzte Element entfernen und zuweisen\n",
    "print(end)\n",
    "print(mylist)"
   ]
  },
  {
   "cell_type": "markdown",
   "metadata": {
    "slideshow": {
     "slide_type": "slide"
    }
   },
   "source": [
    "### Slicing von Listen"
   ]
  },
  {
   "cell_type": "markdown",
   "metadata": {
    "slideshow": {
     "slide_type": "subslide"
    }
   },
   "source": [
    "Anstatt auf Listenelemente einzeln zuzugreifen kann man ganze Untermengen der Liste auf ein Mal erzeugen. Diese Eigenschaft von Listen nennt man \"slicing\", also soviel wie schneiden. Zum Erzeugen der Liste verwenden wir die Funktion range(x). Sie erzeugt eine Liste von Intergern von 0 bis x-1."
   ]
  },
  {
   "cell_type": "code",
   "execution_count": 18,
   "metadata": {
    "slideshow": {
     "slide_type": "subslide"
    }
   },
   "outputs": [
    {
     "name": "stdout",
     "output_type": "stream",
     "text": [
      "[0, 1, 2, 3, 4]\n",
      "[2, 3]\n",
      "[2, 3, 4]\n",
      "[0, 1]\n",
      "[0, 1, 2, 3, 4]\n",
      "[0, 1, 2, 3]\n",
      "[0, 1, 8, 9, 4]\n"
     ]
    }
   ],
   "source": [
    "nums = list(range(5))    # range() übergibt ein Objekt an den Konstruktor der list Klasse\n",
    "print(nums)         \n",
    "print(nums[2:4])    # slice von Index 2 bis exclusiv 4, also Index 2 und 3\n",
    "print(nums[2:])     # slice ab inklusive Index 2 bis zum Ende der Liste\n",
    "print(nums[:2])     # slice vom Listenanfang bis exklusiv Index 2\n",
    "print(nums[:])      # die ganze Liste\n",
    "print(nums[:-1])    # Index -1 ist gleich Index 5\n",
    "nums[2:4] = [8, 9]  # Index 2 und 3 werden neue Werte zugewiesen\n",
    "print(nums)         "
   ]
  },
  {
   "cell_type": "markdown",
   "metadata": {
    "slideshow": {
     "slide_type": "slide"
    }
   },
   "source": [
    "### Schleifen"
   ]
  },
  {
   "cell_type": "markdown",
   "metadata": {
    "slideshow": {
     "slide_type": "subslide"
    }
   },
   "source": [
    "Man kann (und das ist in Python die Regel) eine Schleife über die Elemente einer Liste definieren."
   ]
  },
  {
   "cell_type": "code",
   "execution_count": 19,
   "metadata": {
    "slideshow": {
     "slide_type": "subslide"
    }
   },
   "outputs": [
    {
     "name": "stdout",
     "output_type": "stream",
     "text": [
      "Katze\n",
      "Hund\n",
      "Affe\n"
     ]
    }
   ],
   "source": [
    "tiere = ['Katze', 'Hund', 'Affe']\n",
    "for tier in tiere:\n",
    "    print(tier)"
   ]
  },
  {
   "cell_type": "markdown",
   "metadata": {
    "slideshow": {
     "slide_type": "subslide"
    }
   },
   "source": [
    "Die <tt>enumerate</tt> Funktion kann man dazu benutzen den Index eines Listenelementes zu bestimmen. Wendet man <tt>enumerate</tt> auf eine Liste an, erhält man für jedes Listenelement ein Tupel mit dem Index und dem Wert des Elementes zurück."
   ]
  },
  {
   "cell_type": "code",
   "execution_count": 20,
   "metadata": {
    "slideshow": {
     "slide_type": "subslide"
    }
   },
   "outputs": [
    {
     "name": "stdout",
     "output_type": "stream",
     "text": [
      "#1: Katze\n",
      "#2: Hund\n",
      "#3: Affe\n"
     ]
    }
   ],
   "source": [
    "tiere = ['Katze', 'Hund', 'Affe']\n",
    "for index, tier in enumerate(tiere):\n",
    "    print('#{}: {}'.format(index + 1, tier))"
   ]
  },
  {
   "cell_type": "markdown",
   "metadata": {
    "slideshow": {
     "slide_type": "slide"
    }
   },
   "source": [
    "### List Comprehensions"
   ]
  },
  {
   "cell_type": "markdown",
   "metadata": {
    "slideshow": {
     "slide_type": "subslide"
    }
   },
   "source": [
    "Eine Möglichkeit aus einer Liste eine davon abgeleitete neue Liste zu erzeugen. Im folgenden Beispiel erzeugen wir aus einer Liste mit Zahlen eine neue Liste mit deren Quadrat."
   ]
  },
  {
   "cell_type": "code",
   "execution_count": 21,
   "metadata": {
    "slideshow": {
     "slide_type": "subslide"
    }
   },
   "outputs": [
    {
     "name": "stdout",
     "output_type": "stream",
     "text": [
      "[0, 1, 4, 9, 16]\n"
     ]
    }
   ],
   "source": [
    "zahlen = [0, 1, 2, 3, 4]\n",
    "quadrate = [x ** 2 for x in zahlen]    # list comprehension\n",
    "print(quadrate)"
   ]
  },
  {
   "cell_type": "markdown",
   "metadata": {
    "slideshow": {
     "slide_type": "subslide"
    }
   },
   "source": [
    "Die Anweisung einer List Comprehension kann auch Bedingungen enthalten. Im folgenden Beispiel erzeugen wir nur die Quadrate der geraden Zahlen."
   ]
  },
  {
   "cell_type": "code",
   "execution_count": 22,
   "metadata": {
    "slideshow": {
     "slide_type": "subslide"
    }
   },
   "outputs": [
    {
     "name": "stdout",
     "output_type": "stream",
     "text": [
      "[0, 4, 16]\n"
     ]
    }
   ],
   "source": [
    "zahlen = [0, 1, 2, 3, 4]\n",
    "quadrate_der_geraden_zahlen = [x ** 2 for x in zahlen if x % 2 == 0]    # list comprehension\n",
    "print(quadrate_der_geraden_zahlen)"
   ]
  },
  {
   "cell_type": "markdown",
   "metadata": {
    "slideshow": {
     "slide_type": "slide"
    }
   },
   "source": [
    "### Dictionary"
   ]
  },
  {
   "cell_type": "markdown",
   "metadata": {
    "slideshow": {
     "slide_type": "subslide"
    }
   },
   "source": [
    "Dictionaries speichern Paare aus einem Schlüssel und einem Wert (Schlüssel, Wert). Es gibt sie unter anderem Namen in fast allen gebräuchlichen Programmiersprachen."
   ]
  },
  {
   "cell_type": "code",
   "execution_count": 23,
   "metadata": {
    "slideshow": {
     "slide_type": "subslide"
    }
   },
   "outputs": [
    {
     "name": "stdout",
     "output_type": "stream",
     "text": [
      "miaut\n",
      "True\n"
     ]
    }
   ],
   "source": [
    "d = {'Katze': 'miaut', 'Hund': 'bellt', 'Kuh': 'muht'}  # Ein Dictionary mit drei Schlüssel-Wert Paaren\n",
    "print(d['Katze'])           # Den Wert für den Schlüssel 'Katze' ausgeben\n",
    "print('Kuh' in d)           # Prüfen ob das Dictionary den Schlüssel Kuh enthält"
   ]
  },
  {
   "cell_type": "code",
   "execution_count": 24,
   "metadata": {
    "slideshow": {
     "slide_type": "subslide"
    }
   },
   "outputs": [
    {
     "name": "stdout",
     "output_type": "stream",
     "text": [
      "quakt\n",
      "{'Katze': 'miaut', 'Hund': 'bellt', 'Kuh': 'muht', 'Ente': 'quakt'}\n"
     ]
    }
   ],
   "source": [
    "d['Ente'] = 'quakt'    # Neuen Eintrag erzeugen\n",
    "print(d['Ente'])      \n",
    "print(d)"
   ]
  },
  {
   "cell_type": "markdown",
   "metadata": {
    "slideshow": {
     "slide_type": "subslide"
    }
   },
   "source": [
    "Versucht man den Wert für einen Schlüssel auszugeben, den das Dictionary nicht enthält bekommt man einen <tt>KeyError</tt>."
   ]
  },
  {
   "cell_type": "code",
   "execution_count": 25,
   "metadata": {
    "slideshow": {
     "slide_type": "subslide"
    }
   },
   "outputs": [
    {
     "ename": "KeyError",
     "evalue": "'Affe'",
     "output_type": "error",
     "traceback": [
      "\u001b[0;31m---------------------------------------------------------------------------\u001b[0m",
      "\u001b[0;31mKeyError\u001b[0m                                  Traceback (most recent call last)",
      "\u001b[0;32m<ipython-input-25-6166688c1ed0>\u001b[0m in \u001b[0;36m<module>\u001b[0;34m\u001b[0m\n\u001b[0;32m----> 1\u001b[0;31m \u001b[0mprint\u001b[0m\u001b[0;34m(\u001b[0m\u001b[0md\u001b[0m\u001b[0;34m[\u001b[0m\u001b[0;34m'Affe'\u001b[0m\u001b[0;34m]\u001b[0m\u001b[0;34m)\u001b[0m\u001b[0;34m\u001b[0m\u001b[0;34m\u001b[0m\u001b[0m\n\u001b[0m",
      "\u001b[0;31mKeyError\u001b[0m: 'Affe'"
     ]
    }
   ],
   "source": [
    "print(d['Affe'])  "
   ]
  },
  {
   "cell_type": "code",
   "execution_count": 26,
   "metadata": {
    "slideshow": {
     "slide_type": "subslide"
    }
   },
   "outputs": [
    {
     "name": "stdout",
     "output_type": "stream",
     "text": [
      "{'Katze': 'miaut', 'Hund': 'bellt', 'Kuh': 'muht'}\n"
     ]
    }
   ],
   "source": [
    "del d['Ente']        # Löscht ein Element aus dem Dictionary\n",
    "print(d)"
   ]
  },
  {
   "cell_type": "markdown",
   "metadata": {
    "slideshow": {
     "slide_type": "subslide"
    }
   },
   "source": [
    "Man die Elemente eines Dictionaries in einer Schleife bearbeiten: "
   ]
  },
  {
   "cell_type": "code",
   "execution_count": 27,
   "metadata": {
    "slideshow": {
     "slide_type": "subslide"
    }
   },
   "outputs": [
    {
     "name": "stdout",
     "output_type": "stream",
     "text": [
      "Ein/e Katze miaut\n",
      "Ein/e Hund bellt\n",
      "Ein/e Kuh muht\n"
     ]
    }
   ],
   "source": [
    "d = {'Katze': 'miaut', 'Hund': 'bellt', 'Kuh': 'muht'}\n",
    "for tier, stimme in d.items():\n",
    "    print('Ein/e {} {}'.format(tier, stimme))"
   ]
  },
  {
   "cell_type": "markdown",
   "metadata": {
    "slideshow": {
     "slide_type": "subslide"
    }
   },
   "source": [
    "Mit <b>Dictionary Comprehensions</b> kann man zum Beispiel aus einer Liste ein Dictionary erzeugen."
   ]
  },
  {
   "cell_type": "code",
   "execution_count": 28,
   "metadata": {
    "slideshow": {
     "slide_type": "subslide"
    }
   },
   "outputs": [
    {
     "name": "stdout",
     "output_type": "stream",
     "text": [
      "{0: 0, 1: 1, 2: 4, 3: 9, 4: 16}\n"
     ]
    }
   ],
   "source": [
    "nummmern = [0, 1, 2, 3, 4]\n",
    "quadrate = {x: x ** 2 for x in nummmern}\n",
    "print(quadrate)"
   ]
  },
  {
   "cell_type": "markdown",
   "metadata": {
    "slideshow": {
     "slide_type": "slide"
    }
   },
   "source": [
    "### Sets"
   ]
  },
  {
   "cell_type": "markdown",
   "metadata": {
    "slideshow": {
     "slide_type": "subslide"
    }
   },
   "source": [
    "Eine <b>ungeordnete</b> Sammlung für <b>unterschiedliche<b> Elemente."
   ]
  },
  {
   "cell_type": "code",
   "execution_count": 29,
   "metadata": {
    "slideshow": {
     "slide_type": "subslide"
    }
   },
   "outputs": [
    {
     "name": "stdout",
     "output_type": "stream",
     "text": [
      "True\n",
      "False\n"
     ]
    }
   ],
   "source": [
    "tiere = {'Katze', 'Hund', 'Kuh', 'Ente'}\n",
    "print('Katze' in tiere)   # Prüfen ob das Set das Element Katze enthält\n",
    "print('Fisch' in tiere)   # Prüfen ob das Set das Element Fisch enthält"
   ]
  },
  {
   "cell_type": "code",
   "execution_count": 30,
   "metadata": {
    "slideshow": {
     "slide_type": "subslide"
    }
   },
   "outputs": [
    {
     "name": "stdout",
     "output_type": "stream",
     "text": [
      "True\n",
      "5\n"
     ]
    }
   ],
   "source": [
    "tiere.add('Fisch')        # Dem Set ein Element hinzufügen\n",
    "print('Fisch' in tiere)\n",
    "print(len(tiere))       # Die Anzahle der Elemente eines Sets ausgeben"
   ]
  },
  {
   "cell_type": "markdown",
   "metadata": {
    "slideshow": {
     "slide_type": "subslide"
    }
   },
   "source": [
    "Wie oben bereits erwähnt enthalten Sets nur unterschiedliche Elemente. Versucht man dem Set ein bereits enthaltenes Element ein zweites Mal einzufügen passiert nichts."
   ]
  },
  {
   "cell_type": "code",
   "execution_count": 31,
   "metadata": {
    "slideshow": {
     "slide_type": "subslide"
    }
   },
   "outputs": [
    {
     "name": "stdout",
     "output_type": "stream",
     "text": [
      "5\n",
      "4\n"
     ]
    }
   ],
   "source": [
    "tiere.add('Katze')       # Wenn man ein Element hinzufügt, das schon existiert passiert nichts\n",
    "print(len(tiere))       \n",
    "tiere.remove('Katze')    # Ein Element aus dem Set entfernen\n",
    "print(len(tiere))     "
   ]
  },
  {
   "cell_type": "markdown",
   "metadata": {
    "slideshow": {
     "slide_type": "subslide"
    }
   },
   "source": [
    "Analog zu den Listen kann man auch über Sets iterieren. Da die Elemente in Sets jedoch ungeordnet sind, kann man keine Vorhersagen darüber treffen in welcher Reihenfolge sie abgearbeitet werden."
   ]
  },
  {
   "cell_type": "code",
   "execution_count": 32,
   "metadata": {
    "slideshow": {
     "slide_type": "subslide"
    }
   },
   "outputs": [
    {
     "name": "stdout",
     "output_type": "stream",
     "text": [
      "#1: Hund\n",
      "#2: Kuh\n",
      "#3: Ente\n",
      "#4: Katze\n"
     ]
    }
   ],
   "source": [
    "tiere = {'Katze', 'Hund', 'Kuh', 'Ente'}\n",
    "for index, tier in enumerate(tiere):         # enumerate gibt einen Tupel aus Index und Wert (index,tier) zurück\n",
    "    print('#{}: {}'.format(index + 1, tier))"
   ]
  },
  {
   "cell_type": "markdown",
   "metadata": {
    "slideshow": {
     "slide_type": "subslide"
    }
   },
   "source": [
    "Auch Sets lassen sich mit Comprehensions erzeugen. Hier erzeugen wir aus der Liste 'zahlen' ein Set 'quadrate' das die Quadrate der Listenwerte enthält. Man beachte, daß die Elemente nicht geordnet sind."
   ]
  },
  {
   "cell_type": "code",
   "execution_count": 33,
   "metadata": {
    "slideshow": {
     "slide_type": "subslide"
    }
   },
   "outputs": [
    {
     "name": "stdout",
     "output_type": "stream",
     "text": [
      "{0, 1, 4, 36, 9, 16, 49, 25}\n"
     ]
    }
   ],
   "source": [
    "zahlen = list(range(8))\n",
    "quadrate = {x**2 for x in zahlen}\n",
    "print(quadrate)"
   ]
  },
  {
   "cell_type": "markdown",
   "metadata": {
    "slideshow": {
     "slide_type": "slide"
    }
   },
   "source": [
    "### Tuple"
   ]
  },
  {
   "cell_type": "markdown",
   "metadata": {
    "slideshow": {
     "slide_type": "subslide"
    }
   },
   "source": [
    "Sind <b>unveränderliche</b> geordnete Listen und diesen in vielen Beziehungen ähnlich. Einer der größten Unterschiede ist, dass ein Tuple als Schlüssel in Dictionaries oder Elemente eines Sets genutzt werden kann. Das ist bei Listen nicht möglich. Wir erzeugen hier ein Dictionary, das Tuples als Schlüssel besitzt."
   ]
  },
  {
   "cell_type": "code",
   "execution_count": 34,
   "metadata": {
    "slideshow": {
     "slide_type": "subslide"
    }
   },
   "outputs": [
    {
     "name": "stdout",
     "output_type": "stream",
     "text": [
      "{(0, 1): 0, (1, 2): 1, (2, 3): 2, (3, 4): 3, (4, 5): 4, (5, 6): 5, (6, 7): 6, (7, 8): 7}\n"
     ]
    }
   ],
   "source": [
    "dict = {(x, x + 1): x for x in range(8)}\n",
    "print(dict)"
   ]
  },
  {
   "cell_type": "markdown",
   "metadata": {
    "slideshow": {
     "slide_type": "subslide"
    }
   },
   "source": [
    "Jetzt rufen wir das Element am Schlüssel (5,6) auf:"
   ]
  },
  {
   "cell_type": "code",
   "execution_count": 35,
   "metadata": {
    "slideshow": {
     "slide_type": "subslide"
    }
   },
   "outputs": [
    {
     "name": "stdout",
     "output_type": "stream",
     "text": [
      "5\n"
     ]
    }
   ],
   "source": [
    "tuple = (5,6)\n",
    "print(dict[tuple])"
   ]
  },
  {
   "cell_type": "markdown",
   "metadata": {
    "slideshow": {
     "slide_type": "slide"
    }
   },
   "source": [
    "## Funktionen"
   ]
  },
  {
   "cell_type": "markdown",
   "metadata": {
    "slideshow": {
     "slide_type": "subslide"
    }
   },
   "source": [
    "Werden in Python mit dem Schlüsselwort <tt>def</tt> angelegt."
   ]
  },
  {
   "cell_type": "code",
   "execution_count": 37,
   "metadata": {
    "slideshow": {
     "slide_type": "subslide"
    }
   },
   "outputs": [
    {
     "name": "stdout",
     "output_type": "stream",
     "text": [
      "Dieser Wert ist negativ\n",
      "Null\n",
      "Dieser Wert ist positiv\n"
     ]
    }
   ],
   "source": [
    "def sign(x):\n",
    "    if x > 0:\n",
    "        return 'Dieser Wert ist positiv'\n",
    "    elif x < 0:\n",
    "        return 'Dieser Wert ist negativ'\n",
    "    else:\n",
    "        return 'Null'\n",
    "\n",
    "for x in [-1, 0, 1]:\n",
    "    print(sign(x))"
   ]
  },
  {
   "cell_type": "markdown",
   "metadata": {
    "slideshow": {
     "slide_type": "subslide"
    }
   },
   "source": [
    "Es ist möglich Funktionen optionale Argumente mitzugeben. Diese Argumente erhalten in der Funktionsdefinition einen Standardwert der gilt, wenn man nichts anderes angibt. Die Funktion 'hallo' schreibt einen Gruß in Großbuchstaben, wenn man das Argument 'gross' explizit auf 'True' setzt."
   ]
  },
  {
   "cell_type": "code",
   "execution_count": 38,
   "metadata": {
    "slideshow": {
     "slide_type": "subslide"
    }
   },
   "outputs": [
    {
     "name": "stdout",
     "output_type": "stream",
     "text": [
      "Hallo, Frederike!\n",
      "HALLO, CHARLOTTE\n"
     ]
    }
   ],
   "source": [
    "def hallo(name, gross=False):\n",
    "    if gross:\n",
    "        print('HALLO, {}'.format(name.upper()))\n",
    "    else:\n",
    "        print('Hallo, {}!'.format(name))\n",
    "\n",
    "hallo('Frederike')\n",
    "hallo('Charlotte', gross=True)"
   ]
  },
  {
   "cell_type": "markdown",
   "metadata": {
    "slideshow": {
     "slide_type": "slide"
    }
   },
   "source": [
    "## Klassen"
   ]
  },
  {
   "cell_type": "markdown",
   "metadata": {
    "slideshow": {
     "slide_type": "subslide"
    }
   },
   "source": [
    "Python ist eine objektorientierte Programmiersprache und bietet deshalb die Möglichkeit Klassen zu definieren. Wir greifen das obige Beispiel einer \"Grussfunktion\" auf und erledigen dieselbe Aufgabe objektorientiert mit einer Klasse."
   ]
  },
  {
   "cell_type": "code",
   "execution_count": 39,
   "metadata": {
    "slideshow": {
     "slide_type": "subslide"
    }
   },
   "outputs": [
    {
     "name": "stdout",
     "output_type": "stream",
     "text": [
      "Hello, Frederike!\n",
      "HELLO, FREDERIKE\n"
     ]
    }
   ],
   "source": [
    "class Grussonkel:\n",
    "\n",
    "    # Konstruktor\n",
    "    def __init__(self, name):\n",
    "        self.name = name             \n",
    "\n",
    "    # Methode\n",
    "    def hallo(self, gross=False):\n",
    "        if gross:\n",
    "          print('HELLO, {}'.format(self.name.upper()))\n",
    "        else:\n",
    "          print('Hello, {}!'.format(self.name))\n",
    "\n",
    "g = Grussonkel('Frederike')      # Erzeugen einer Instanz der Grussonkel Klasse\n",
    "g.hallo()                        # Aufrufen der Instanzmethode mit Standardargument\n",
    "g.hallo(gross=True)              # Aufrufen der Instanzmethode mit optionalem Argument gross=True"
   ]
  },
  {
   "cell_type": "markdown",
   "metadata": {
    "slideshow": {
     "slide_type": "slide"
    }
   },
   "source": [
    "# www.hagenheckel.de\n",
    "\n",
    "# Github: hagenheckel"
   ]
  }
 ],
 "metadata": {
  "celltoolbar": "Slideshow",
  "kernelspec": {
   "display_name": "Python 3",
   "language": "python",
   "name": "python3"
  },
  "language_info": {
   "codemirror_mode": {
    "name": "ipython",
    "version": 3
   },
   "file_extension": ".py",
   "mimetype": "text/x-python",
   "name": "python",
   "nbconvert_exporter": "python",
   "pygments_lexer": "ipython3",
   "version": "3.8.2"
  }
 },
 "nbformat": 4,
 "nbformat_minor": 4
}
