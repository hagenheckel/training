{
 "cells": [
  {
   "cell_type": "markdown",
   "metadata": {},
   "source": [
    "# Funktionen"
   ]
  },
  {
   "cell_type": "markdown",
   "metadata": {},
   "source": [
    "## Lernziele\n",
    "\n",
    "<ul>\n",
    "    <li>Definition von Funktionen</li>\n",
    "    <li>Dokumentation von Funktionen</li>\n",
    "    <li>Vereinbaren von Standardwerten</li>\n",
    "    <li>return Anweisung</li>\n",
    "    <li>Globale und lokale Variablen</li>\n",
    "    <li>Variadische Funktionen</li>\n",
    "</ul>"
   ]
  },
  {
   "cell_type": "markdown",
   "metadata": {},
   "source": [
    "Die Definition einer Funktion beginnt mit dem Schlüsselwort <tt>def</tt> und wird gefolgt von einer Parameterliste. Danach folgt der konstant eingerückte Funktionsblock. Rückgabewerte werden (optional) mit der <tt>return</tt> Anweisung übergeben."
   ]
  },
  {
   "cell_type": "code",
   "execution_count": null,
   "metadata": {},
   "outputs": [],
   "source": [
    "def harmonische(freq, harm):\n",
    "    return freq*harm\n",
    "\n",
    "f = 144.69\n",
    "h = 3\n",
    "hf = harmonische(f,h)\n",
    "print(\"Die {}te Harmonische der Frequenz {} MHz beträgt {} MHz.\".format(h,f,hf))"
   ]
  },
  {
   "cell_type": "code",
   "execution_count": null,
   "metadata": {},
   "outputs": [],
   "source": [
    "def harmonische(freq, harm):\n",
    "    return freq*harm\n",
    "\n",
    "f = 144.69\n",
    "for h in range(1,7):\n",
    "    print(\"Die {}te Harmonische der Frequenz {} MHz beträgt {} MHz.\".format(h,f,harmonische(f,h)))"
   ]
  },
  {
   "cell_type": "markdown",
   "metadata": {},
   "source": [
    "## Dokumentation\n",
    "\n",
    "Die obige Funktion berechnet die Harmonische einer Frequenz, führt also eine einfache Multiplikation aus. Trotzdem sollte man seine Funktionen dokumentieren, damit man auch später noch weiß, was vor sich geht. Den Docstring führt man in drei Hochkommas eingepackt direkt hinter <tt>def</tt> auf. Die Funktion führt den Docstring in ihrem privaten Attribut <tt>.__doc__</tt> mit sich."
   ]
  },
  {
   "cell_type": "code",
   "execution_count": null,
   "metadata": {},
   "outputs": [],
   "source": [
    "def freq2lambda(freq):\n",
    "    \"\"\"Berechnet die Wellenlänge aus der Frequenz im Vakuum\"\"\"\n",
    "    return 3e8 / freq\n",
    "\n",
    "def lambda2freq(lamb):\n",
    "    \"\"\"Berechnet die Frequenz aus der Wellenlänge im Vakuum\"\"\"\n",
    "    return 3e8 / lamb\n",
    "\n",
    "print(freq2lambda.__doc__)\n",
    "print(lambda2freq.__doc__)"
   ]
  },
  {
   "cell_type": "markdown",
   "metadata": {},
   "source": [
    "## Standardwerte\n",
    "\n",
    "Die Funktionen <tt>freq2lambda</tt> verwendet die Lichtgeschwindigkeit im Vakuum mit 3e8 m/s. Möchte man mit der Funktion auch für andere Ausbreitungsmedien gerüstet sein, kann man die Lichtgeschwindigkeit als Standardwert in der Parameterliste definieren und bei Bedarf einen anderen Wert übergeben."
   ]
  },
  {
   "cell_type": "code",
   "execution_count": null,
   "metadata": {},
   "outputs": [],
   "source": [
    "def freq2lambda(freq, c=3e8):\n",
    "    \"\"\"Berechnet die Wellenlänge aus der Frequenz in verschiedenen Medien\"\"\"\n",
    "    return c / freq\n",
    "\n",
    "print(\"Wellenlänge im Vakuum {0:4.2f} m\".format(freq2lambda(145.631e6)))           # c=3e8\n",
    "print(\"Wellenlänge in Wasser {0:4.2f} m\".format(freq2lambda(145.631e6, 2.25e8)))   # c=2.25e8"
   ]
  },
  {
   "cell_type": "markdown",
   "metadata": {},
   "source": [
    "## return\n",
    "\n",
    "Mit dem Befehl <tt>return</tt> liefert die Funktion einen Rückgabewert an den aufrufenden Prozess. Das haben wir in den vorigen Beispielen bereits gesehen. Es ist aber auch möglich eine Funktion ohne den <tt>return</tt> Befehl zu definieren. In diesem Fall liefert sie <tt>None</tt> zurück."
   ]
  },
  {
   "cell_type": "code",
   "execution_count": null,
   "metadata": {},
   "outputs": [],
   "source": [
    "def gg():\n",
    "    print(\"Hallo\")\n",
    "    \n",
    "x = gg()     # Das Rückgabeobjekt der Funktion gg() wird der Variablen x zugewiesen\n",
    "print(x)"
   ]
  },
  {
   "cell_type": "markdown",
   "metadata": {},
   "source": [
    "Es ist auch möglich mit <tt>return</tt> einen ganzen Container zurückzugeben:"
   ]
  },
  {
   "cell_type": "code",
   "execution_count": null,
   "metadata": {},
   "outputs": [],
   "source": [
    "def ich_gebe_viele_werte_zurueck():\n",
    "    return list(range(12))\n",
    "\n",
    "print(ich_gebe_viele_werte_zurueck())"
   ]
  },
  {
   "cell_type": "markdown",
   "metadata": {},
   "source": [
    "## Lokale und globale Variablen\n",
    "\n",
    "Man unterscheidet zwischen lokalen Variablen, die nur in der betreffenden Funktion bekannt sind und globalen Variablen die im ganzen Skript Gültigkeit haben."
   ]
  },
  {
   "cell_type": "code",
   "execution_count": null,
   "metadata": {},
   "outputs": [],
   "source": [
    "def eineFunktion():\n",
    "    s = \"lokale Variable\"\n",
    "    print(s)\n",
    "    \n",
    "s = \"globale Variable\"\n",
    "\n",
    "eineFunktion()     # die lokale Variable s wird ausgegeben\n",
    "print(s)           # die globale Variable s wird ausgegeben"
   ]
  },
  {
   "cell_type": "markdown",
   "metadata": {},
   "source": [
    "## Variable Parameteranzahl\n",
    "\n",
    "Angenommen Sie wollen eine Funktion schreiben, die in einem Navigationsprogramm die Gesamtstrecke als die Summe von Einzelstrecken berechnet. Sie wissen natürlich nicht wieviel Einzelstrecken jeweils addiert werden müssen, weshalb ihre Funktion in der Lage sein muss, eine variable Anzahl von Parametern entgegen zu nehmen. Eine solche Funktion nennt man auch <b>variadische Funktion</b>. In Python löst man dieses Problem indem man vor den variablen Parameter einen * setzt."
   ]
  },
  {
   "cell_type": "code",
   "execution_count": null,
   "metadata": {},
   "outputs": [],
   "source": [
    "def summe(strecke, *weitere_strecken):\n",
    "    return(strecke + sum(weitere_strecken))\n",
    "\n",
    "print(summe(5))             # mindestens eine Strecke muss angegeben werden\n",
    "print(summe(5,7,2,18))"
   ]
  },
  {
   "cell_type": "markdown",
   "metadata": {},
   "source": [
    "Die an <tt>*weitere_strecken</tt> übergebenen Werte, werden in ein Tupel gespeichert und können wie ein solches weiter verarbeitet werden, hier mit der Funktion <tt>sum</tt>."
   ]
  },
  {
   "cell_type": "markdown",
   "metadata": {},
   "source": [
    "Liegen die Werte nicht einzeln sondern schon in einer Liste oder einem Tupel vor, gestaltet sich die Aufgabe einfacher. Man übergibt jetzt einfach die Liste als einen Parameter."
   ]
  },
  {
   "cell_type": "code",
   "execution_count": null,
   "metadata": {},
   "outputs": [],
   "source": [
    "def summe(liste):\n",
    "    return sum(liste)\n",
    "\n",
    "streckenliste = [5,7,2,18]\n",
    "print(summe(streckenliste))"
   ]
  }
 ],
 "metadata": {
  "kernelspec": {
   "display_name": "Python 3",
   "language": "python",
   "name": "python3"
  },
  "language_info": {
   "codemirror_mode": {
    "name": "ipython",
    "version": 3
   },
   "file_extension": ".py",
   "mimetype": "text/x-python",
   "name": "python",
   "nbconvert_exporter": "python",
   "pygments_lexer": "ipython3",
   "version": "3.8.2"
  }
 },
 "nbformat": 4,
 "nbformat_minor": 4
}
