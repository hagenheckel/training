{
 "cells": [
  {
   "cell_type": "markdown",
   "metadata": {},
   "source": [
    "# Bibliotheken und Pakete\n",
    "\n",
    "dienen zur Modularisierung von Software. Bibliotheken (Libraries) bieten Funktionen und Datentypen, die man nach ihrem Import in das eigene Programm verwenden kann."
   ]
  },
  {
   "cell_type": "markdown",
   "metadata": {},
   "source": [
    "## Lernziele\n",
    "\n",
    "<ul>\n",
    "    <li>Bibliotheken importieren</li>\n",
    "    <li>Bibliotheken finden</li>\n",
    "    <li>Erstellen eigener Bibliotheken</li>\n",
    "    <li>Aufbau von Paketen</li>\n",
    "</ul>"
   ]
  },
  {
   "cell_type": "markdown",
   "metadata": {},
   "source": [
    " ## Import\n",
    " \n",
    " Für den Import gibt es verschiedene Möglichkeiten:"
   ]
  },
  {
   "cell_type": "code",
   "execution_count": 1,
   "metadata": {},
   "outputs": [],
   "source": [
    "import math"
   ]
  },
  {
   "cell_type": "markdown",
   "metadata": {},
   "source": [
    "importiert z.B. das Python-Mathematikmodul. Nach dem Import kann man sich die bereitgestellten Namen und Funktionen anzeigen lassen:"
   ]
  },
  {
   "cell_type": "code",
   "execution_count": 2,
   "metadata": {},
   "outputs": [
    {
     "data": {
      "text/plain": [
       "['__doc__',\n",
       " '__loader__',\n",
       " '__name__',\n",
       " '__package__',\n",
       " '__spec__',\n",
       " 'acos',\n",
       " 'acosh',\n",
       " 'asin',\n",
       " 'asinh',\n",
       " 'atan',\n",
       " 'atan2',\n",
       " 'atanh',\n",
       " 'ceil',\n",
       " 'comb',\n",
       " 'copysign',\n",
       " 'cos',\n",
       " 'cosh',\n",
       " 'degrees',\n",
       " 'dist',\n",
       " 'e',\n",
       " 'erf',\n",
       " 'erfc',\n",
       " 'exp',\n",
       " 'expm1',\n",
       " 'fabs',\n",
       " 'factorial',\n",
       " 'floor',\n",
       " 'fmod',\n",
       " 'frexp',\n",
       " 'fsum',\n",
       " 'gamma',\n",
       " 'gcd',\n",
       " 'hypot',\n",
       " 'inf',\n",
       " 'isclose',\n",
       " 'isfinite',\n",
       " 'isinf',\n",
       " 'isnan',\n",
       " 'isqrt',\n",
       " 'ldexp',\n",
       " 'lgamma',\n",
       " 'log',\n",
       " 'log10',\n",
       " 'log1p',\n",
       " 'log2',\n",
       " 'modf',\n",
       " 'nan',\n",
       " 'perm',\n",
       " 'pi',\n",
       " 'pow',\n",
       " 'prod',\n",
       " 'radians',\n",
       " 'remainder',\n",
       " 'sin',\n",
       " 'sinh',\n",
       " 'sqrt',\n",
       " 'tan',\n",
       " 'tanh',\n",
       " 'tau',\n",
       " 'trunc']"
      ]
     },
     "execution_count": 2,
     "metadata": {},
     "output_type": "execute_result"
    }
   ],
   "source": [
    "dir(math)"
   ]
  },
  {
   "cell_type": "markdown",
   "metadata": {},
   "source": [
    "Hat man die Bibliothek mit einer einfachen <tt>import</tt> Anweisung geladen muss man der gewünschten Funktion, den Namen der Bibliothek, gefolgt von einem Punkt voranstellen."
   ]
  },
  {
   "cell_type": "code",
   "execution_count": 5,
   "metadata": {},
   "outputs": [
    {
     "data": {
      "text/plain": [
       "2.0"
      ]
     },
     "execution_count": 5,
     "metadata": {},
     "output_type": "execute_result"
    }
   ],
   "source": [
    "math.sqrt(4)"
   ]
  },
  {
   "cell_type": "markdown",
   "metadata": {},
   "source": [
    "Es ist auch möglich die Bibliothek beim Import umzubenennen um sich im Quellcode Schreibarbeit zu ersparen."
   ]
  },
  {
   "cell_type": "code",
   "execution_count": 8,
   "metadata": {},
   "outputs": [
    {
     "data": {
      "text/plain": [
       "2.0"
      ]
     },
     "execution_count": 8,
     "metadata": {},
     "output_type": "execute_result"
    }
   ],
   "source": [
    "import math as m\n",
    "\n",
    "m.sqrt(4)"
   ]
  },
  {
   "cell_type": "markdown",
   "metadata": {},
   "source": [
    "Möchte man bestimmte Funktionen im eigenen Namensraum verwenden, lautet die <tt>import</tt> Anweisung:"
   ]
  },
  {
   "cell_type": "code",
   "execution_count": 7,
   "metadata": {},
   "outputs": [
    {
     "data": {
      "text/plain": [
       "2.0"
      ]
     },
     "execution_count": 7,
     "metadata": {},
     "output_type": "execute_result"
    }
   ],
   "source": [
    "from math import sqrt\n",
    "\n",
    "sqrt(4)"
   ]
  },
  {
   "cell_type": "markdown",
   "metadata": {},
   "source": [
    "## Suchpfad\n",
    "\n",
    "Je nach verwendetem System, können Bibliotheken ausser im aktuellen Verzeichnis, auch an anderen Stellen gespeichert sein. Wir verwenden die Bibliothek <tt>sys</tt> um die in <tt>sys.path</tt> abgespeicherten Suchpfade zu finden."
   ]
  },
  {
   "cell_type": "code",
   "execution_count": 10,
   "metadata": {},
   "outputs": [
    {
     "name": "stdout",
     "output_type": "stream",
     "text": [
      "/home/hagen/Python\n",
      "/usr/lib/python38.zip\n",
      "/usr/lib/python3.8\n",
      "/usr/lib/python3.8/lib-dynload\n",
      "\n",
      "/home/hagen/.local/lib/python3.8/site-packages\n",
      "/usr/local/lib/python3.8/dist-packages\n",
      "/usr/local/lib/python3.8/dist-packages/Keras-2.4.3-py3.8.egg\n",
      "/usr/lib/python3/dist-packages\n",
      "/home/hagen/.local/lib/python3.8/site-packages/IPython/extensions\n",
      "/home/hagen/.ipython\n"
     ]
    }
   ],
   "source": [
    "import sys\n",
    "\n",
    "for dir in sys.path:\n",
    "    print(dir)"
   ]
  },
  {
   "cell_type": "markdown",
   "metadata": {},
   "source": [
    "## Eigene Module\n",
    "\n",
    "Meistens lädt man sich benötigte Bibliotheken aus dem Internet herunter (apt-get, pip, git clone, ...). Man kann aber auch leicht selber welche erstellen, z.B. um eigene Funktionen auszulagern und die Software damit besser zu strukturieren. Im nachfolgenden Beispiel wurde ein Modul mit einfachen Umrechnungsfunktionen als <tt>funk.py</tt> im aktuellen Verzeichnis abgespeichert."
   ]
  },
  {
   "cell_type": "code",
   "execution_count": null,
   "metadata": {},
   "outputs": [],
   "source": [
    "\"\"\" Ein Modul mit Funtionen aus der Funktechnik \"\"\"\n",
    "\n",
    "def lambda2freq(lamb, c=3e8):\n",
    "    \"\"\"Berechnet die Frequenz aus der Wellenlänge in verscgiedenen Medien\"\"\"\n",
    "    return c / lamb\n",
    "    \n",
    "def freq2lambda(freq, c=3e8):\n",
    "    \"\"\"Berechnet die Wellenlänge aus der Frequenz in verschiedenen Medien\"\"\"\n",
    "    return c / freq\n",
    "\n",
    "def period2freq(p):\n",
    "    \"\"\" Berechnet die Frequenz aus einer gegebenen Periodendauer \"\"\"\n",
    "    return 1/p\t\n",
    "    \n",
    "def freq2period(f):\n",
    "    \"\"\" Berechnet die Periodendauer aus einer gegebenen Frequenz \"\"\"\n",
    "    return 1/f"
   ]
  },
  {
   "cell_type": "code",
   "execution_count": 12,
   "metadata": {},
   "outputs": [
    {
     "name": "stdout",
     "output_type": "stream",
     "text": [
      "150000000.0\n"
     ]
    }
   ],
   "source": [
    "import funk\n",
    "\n",
    "print(funk.lambda2freq(2))"
   ]
  },
  {
   "cell_type": "markdown",
   "metadata": {},
   "source": [
    "Hat man seine Bibliothek auch ordentlich dokumentiert, liefert die <tt>help</tt> Funktion auch hilfreiche Informationen."
   ]
  },
  {
   "cell_type": "code",
   "execution_count": 15,
   "metadata": {},
   "outputs": [
    {
     "name": "stdout",
     "output_type": "stream",
     "text": [
      "Help on module funk:\n",
      "\n",
      "NAME\n",
      "    funk - Ein Modul mit Funtionen aus der Funktechnik\n",
      "\n",
      "FUNCTIONS\n",
      "    freq2lambda(freq, c=300000000.0)\n",
      "        Berechnet die Wellenlänge aus der Frequenz in verschiedenen Medien\n",
      "    \n",
      "    freq2period(f)\n",
      "        Berechnet die Periodendauer aus einer gegebenen Frequenz\n",
      "    \n",
      "    lambda2freq(lamb, c=300000000.0)\n",
      "        Berechnet die Frequenz aus der Wellenlänge in verscgiedenen Medien\n",
      "    \n",
      "    period2freq(p)\n",
      "        Berechnet die Frequenz aus einer gegebenen Periodendauer\n",
      "\n",
      "FILE\n",
      "    /home/hagen/Python/funk.py\n",
      "\n",
      "\n"
     ]
    }
   ],
   "source": [
    "help(funk)"
   ]
  },
  {
   "cell_type": "markdown",
   "metadata": {},
   "source": [
    "## Pakete\n",
    "\n",
    "Ein Paket dient dazu, mehrere Module zusammenzufassen. Dazu erstellt man in einem der Ordner in denen Python nach Bibliotheken sucht einen Unterordner. In dieses Directory speichert man die Module, die man zu einem Paket schnüren will und erstellt zusätzlich eine Datei mit dem Namen __init__.py. Diese Datei kann sogar leer sein, enthält aber meistens Anweisungen, die beim Laden des Pakets zur Initialisierung ausgeführt werden sollen. Ein einfaches Paket im Unterordner <tt>mypackage</tt> könnte also so aussehen:"
   ]
  },
  {
   "cell_type": "code",
   "execution_count": null,
   "metadata": {},
   "outputs": [],
   "source": [
    "module_a.py\n",
    "module_b.py\n",
    "module_c.py\n",
    "__init__.py"
   ]
  }
 ],
 "metadata": {
  "kernelspec": {
   "display_name": "Python 3",
   "language": "python",
   "name": "python3"
  },
  "language_info": {
   "codemirror_mode": {
    "name": "ipython",
    "version": 3
   },
   "file_extension": ".py",
   "mimetype": "text/x-python",
   "name": "python",
   "nbconvert_exporter": "python",
   "pygments_lexer": "ipython3",
   "version": "3.8.2"
  }
 },
 "nbformat": 4,
 "nbformat_minor": 4
}
