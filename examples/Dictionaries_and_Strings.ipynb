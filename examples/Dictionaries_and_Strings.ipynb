{
 "cells": [
  {
   "cell_type": "markdown",
   "metadata": {},
   "source": [
    "# Dictionaries and String manipulation"
   ]
  },
  {
   "cell_type": "code",
   "execution_count": 1,
   "metadata": {},
   "outputs": [],
   "source": [
    "q = {\"QRA\":\"Der Name meiner Funkstelle ist ...\",\n",
    "     \"QRB\":\"Die Entfernung zwischen unseren Funkstellen beträgt ungefähr ... Seemeilen / Kilometer\",\n",
    "     \"QRG\":\"Ihre genaue Frequenz (die genaue Frequenz von ...) ist ... kHz/MHz.\",     \n",
    "     \"QRH\":\"Ihre Frequenz schwankt\",\n",
    "     \"QRI\":\"Der Ton ihrer Aussendung ist 1.gut 2.veränderlich 3.schlecht\",\n",
    "     \"QRK\":\"Die Verständlichkeit der Zeichen ist 1.schlecht 2.mangelhaft 3.ausreichend 4.gut 5.ausgezeichnet\",\n",
    "     \"QRL\":\"Ich bin beschäftigt. Bitte nicht stören.\",\n",
    "     \"QRM\":\"Ich werde gestört 1.nicht 2.schwach 3.mäßig 4.stark, 5.sehr stark\",\n",
    "     \"QRN\":\"Atmosphärische Störungen 1.keine 2.schwach 3.mäßig 4.stark 5.sehr stark\",\n",
    "     \"QRO\":\"Erhöhen Sie die Sendeleistung\",\n",
    "     \"QRP\":\"Vermindern Sie die Sendeleistung\",\n",
    "     \"QRS\":\"Geben Sie langsamer\",\n",
    "     \"QRT\":\"Stellen Sie die Übermittlung ein\",\n",
    "     \"QRU\":\"Ich habe nichts für Sie\",\n",
    "     \"QRV\":\"Ich bin bereit\",\n",
    "     \"QRX\":\"Ich werde Sie um ... Uhr wieder rufen.\",\n",
    "     \"QRZ\":\"Sie weren von ... gerufen.\",\n",
    "     \"QSB\":\"Die Stärke ihrer Zeichen schwankt.\",\n",
    "     \"QSD\":\"Ihre Zeichen sind verstümmelt.\",\n",
    "     \"QSK\":\"Ich kann Sie zwischen meinen Zeichen hören. Sie dürfen mich unterbrechen.\",\n",
    "     \"QSL\":\"Ich gebe Ihnen Empfangsbestätigung.\",\n",
    "     \"QSO\":\"Ich kann mit ... verkehren.\",\n",
    "     \"QSP\":\"Ich werde an --- vermitteln.\",\n",
    "     \"QSV\":\"Senden Sie eine Reihe V auf dieser Frequenz (oder auf ... kHz/MHz)\",\n",
    "     \"QSX\":\"Ich höre ... (Name/Rufzeichen) auf (Frequenz,Band,Kanal)\",\n",
    "     \"QSY\":\"Gehen Sie zum Senden auf eine andere Frequenz.\",\n",
    "     \"QTC\":\"Ich habe ... Meldungen für ...\",\n",
    "     \"QTF\":\"Ihre Position war nach der Peilung meiner Funkstelle ...\",\n",
    "     \"QTH\":\"Mein Standort ist ...\",\n",
    "     \"QTR\":\"Es sit genau ... Uhr.\"}"
   ]
  },
  {
   "cell_type": "code",
   "execution_count": 2,
   "metadata": {},
   "outputs": [],
   "source": [
    "m = {\"A\":\"· −\",\n",
    "     \"B\":\"− · · ·\",\n",
    "     \"C\":\"− · − ·\",\n",
    "     \"D\":\"− · ·\",\n",
    "     \"E\":\"·\",\n",
    "     \"F\":\"· · − ·\",\n",
    "     \"G\":\"− − ·\",\n",
    "     \"H\":\"· · · ·\",\n",
    "     \"I\":\"· ·\",\n",
    "     \"J\":\"· − − −\",\n",
    "     \"K\":\"− · −\",\n",
    "     \"L\":\"· − · ·\",\n",
    "     \"M\":\"− −\",\n",
    "     \"N\":\"− ·\",\n",
    "     \"O\":\"− − −\",\n",
    "     \"P\":\"· − − ·\",\n",
    "     \"Q\":\"− − · −\",\n",
    "     \"R\":\"· − ·\",\n",
    "     \"S\":\"· · ·\",\n",
    "     \"T\":\"−\",\n",
    "     \"U\":\"· · −\",\n",
    "     \"V\":\"· · · −\",\n",
    "     \"W\":\"· − −\",\n",
    "     \"X\":\"− · · −\",\n",
    "     \"Y\":\"− · − −\",\n",
    "     \"Z\":\"− − · ·\"}"
   ]
  },
  {
   "cell_type": "code",
   "execution_count": null,
   "metadata": {},
   "outputs": [],
   "source": []
  }
 ],
 "metadata": {
  "kernelspec": {
   "display_name": "Python 3",
   "language": "python",
   "name": "python3"
  },
  "language_info": {
   "codemirror_mode": {
    "name": "ipython",
    "version": 3
   },
   "file_extension": ".py",
   "mimetype": "text/x-python",
   "name": "python",
   "nbconvert_exporter": "python",
   "pygments_lexer": "ipython3",
   "version": "3.8.2"
  }
 },
 "nbformat": 4,
 "nbformat_minor": 4
}
