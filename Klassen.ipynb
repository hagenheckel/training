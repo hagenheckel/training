{
 "cells": [
  {
   "cell_type": "markdown",
   "metadata": {},
   "source": [
    "# Klassen\n",
    "\n",
    "sind die zentralen Bausteine in der objektorientierten Programmierung, weshalb Python als objektorientierte Programmiersprache auch zum größten Teil aus Klassen besteht. Einige haben Sie sicher schon kennen gelernt: Strings, Listen, Dictionaries, Tupel, u.v.m., alle sind Klassen.\n",
    "Ein Aspekt der objektorientierten Programmierung ist, dass man versucht Daten und Funktionen unter einem Dach zu vereinigen, wie das in der wirklichen Welt auch der Fall ist. So hat ein Flugzeug neben Eigenschaften wie Länge, Gewicht und Spannweite auch Funktionen wie landen, starten, rollen, etc."
   ]
  },
  {
   "cell_type": "code",
   "execution_count": null,
   "metadata": {},
   "outputs": [],
   "source": [
    "class Kondensator:\n",
    "\n",
    "    # Konstruktor\n",
    "    def __init__(self, kapazitaet):\n",
    "        self.kapazitaet = kapazitaet             \n",
    "\n",
    "    # Methode\n",
    "    def widerstand(self, omega):\n",
    "        return 1/(omega*self.kapazitaet)"
   ]
  },
  {
   "cell_type": "markdown",
   "metadata": {},
   "source": [
    "Die Klassen-Definition ist nicht mehr als ein Bauplan, wie ein Objekt zu konstruieren ist. Will man ein Objekt verwenden, muss man es zuerst entsprechnd dem Klassen-Bauplan erzeugen (instantiieren). Dieses Objekt nennt man Instanz einer Klasse. Im Folgenden Beispiel erzeugen wir den Kondensator c mit einer Kapazität von 9 nF."
   ]
  },
  {
   "cell_type": "code",
   "execution_count": null,
   "metadata": {},
   "outputs": [],
   "source": [
    "c = Kondensator(2e-9)      # Erzeugen einer Instanz der Kondensator Klasse\n",
    "c.widerstand(10000)        # Aufrufen der Instanzmethode widerstand"
   ]
  },
  {
   "cell_type": "markdown",
   "metadata": {},
   "source": [
    "Der sogenannte Konstruktor erzeugt die Instanz mit den Anweisungen in der __init__ Mathode. Hier macht __init__ nicht mehr als dem Attribut <tt>kapazitaet</tt> einen Wert zuzuweisen. Unsere Kondensatorklasse hat auch eine Methode mit der man den kapazitiven Widerstand berechnen kann. \n",
    "\n",
    "<tt>self</tt> ist eine Referenz auf die Klasse selbst und ermöglicht den Zugriff z.B. aus Funktionen auf Attribute ausserhalb der Funktion. Dass man diese Referenz <tt>self</tt> nennt ist jedoch reine Konvention, man könnte sie auch wie in C++ <tt>this</tt> nennen, erschwert jedoch damit die Lesbarkeit des Programms.\n",
    "\n",
    "In der obigen Version der Klasse Kondensator kann man direkt auf die Kapazität zugreifen und diese auch verändern."
   ]
  },
  {
   "cell_type": "code",
   "execution_count": null,
   "metadata": {},
   "outputs": [],
   "source": [
    "print(c.kapazitaet)\n",
    "c.kapazitaet = 2e-9\n",
    "print(c.kapazitaet)"
   ]
  },
  {
   "cell_type": "markdown",
   "metadata": {},
   "source": [
    "Bei einem Kondensator ist dieses Verhalten offensichtlich unerwünscht, ist doch seine Kapazität konstruktiv festgelegt und kann (bis auf wenige Ausnahmen) nicht verändert werden. Diese Tatsache möchten wir in unserer Klasse abbilden und definieren deshalb das Attribut self.kapazitaet als <b>privat</b> indem wir vor den Bezeichner kapazität zwei Tiefstriche setzen. Jetzt kann man von ausserhalb der Klasse nicht mehr auf das Attribut zugreifen. "
   ]
  },
  {
   "cell_type": "code",
   "execution_count": 4,
   "metadata": {},
   "outputs": [
    {
     "ename": "AttributeError",
     "evalue": "'Kondensator' object has no attribute 'kapazitaet'",
     "output_type": "error",
     "traceback": [
      "\u001b[0;31m---------------------------------------------------------------------------\u001b[0m",
      "\u001b[0;31mAttributeError\u001b[0m                            Traceback (most recent call last)",
      "\u001b[0;32m<ipython-input-4-8538ae7fe9da>\u001b[0m in \u001b[0;36m<module>\u001b[0;34m\u001b[0m\n\u001b[1;32m     10\u001b[0m \u001b[0;34m\u001b[0m\u001b[0m\n\u001b[1;32m     11\u001b[0m \u001b[0mc\u001b[0m \u001b[0;34m=\u001b[0m \u001b[0mKondensator\u001b[0m\u001b[0;34m(\u001b[0m\u001b[0;36m2e-9\u001b[0m\u001b[0;34m)\u001b[0m\u001b[0;34m\u001b[0m\u001b[0;34m\u001b[0m\u001b[0m\n\u001b[0;32m---> 12\u001b[0;31m \u001b[0mprint\u001b[0m\u001b[0;34m(\u001b[0m\u001b[0mc\u001b[0m\u001b[0;34m.\u001b[0m\u001b[0mkapazitaet\u001b[0m\u001b[0;34m)\u001b[0m\u001b[0;34m\u001b[0m\u001b[0;34m\u001b[0m\u001b[0m\n\u001b[0m",
      "\u001b[0;31mAttributeError\u001b[0m: 'Kondensator' object has no attribute 'kapazitaet'"
     ]
    }
   ],
   "source": [
    "class Kondensator:\n",
    "\n",
    "    # Konstruktor\n",
    "    def __init__(self, kapazitaet):\n",
    "        self.__kapazitaet = kapazitaet             \n",
    "\n",
    "    # Methode\n",
    "    def widerstand(self, omega):\n",
    "        return 1/(omega*self.__kapazitaet)\n",
    "    \n",
    "c = Kondensator(2e-9)\n",
    "print(c.kapazitaet)"
   ]
  },
  {
   "cell_type": "markdown",
   "metadata": {},
   "source": [
    "<tt>kapazitaet</tt> ist sogar so privat, dass Python so tut als gäbe es ihn gar nicht: 'Kondensator' object has no attribute 'kapazitaet'"
   ]
  },
  {
   "cell_type": "markdown",
   "metadata": {},
   "source": [
    "## self\n",
    "\n",
    "ist die Instanz des Kondensator-Objekts, im obigen Beispiel also c. <tt>c.widerstand(10000)</tt> ist also dasselbe wie <tt>Kondensator.widerstand(c,10000)</tt>. Probieren wir es aus."
   ]
  },
  {
   "cell_type": "code",
   "execution_count": 3,
   "metadata": {},
   "outputs": [
    {
     "name": "stdout",
     "output_type": "stream",
     "text": [
      "49999.99999999999\n",
      "49999.99999999999\n"
     ]
    }
   ],
   "source": [
    "class Kondensator:\n",
    "\n",
    "    # Konstruktor\n",
    "    def __init__(self, kap):\n",
    "        self.__kapazitaet = kap             \n",
    "\n",
    "    # Methode\n",
    "    def widerstand(self, omega):\n",
    "        return 1/(omega*self.__kapazitaet)\n",
    "    \n",
    "i = Kondensator(2e-9)                     # Erzeugen der Instanz\n",
    "print(i.widerstand(10000))                # \"widerstand\" als Methode der Instanz i aufrufen\n",
    "print(Kondensator.widerstand(i,10000))    # Übergabe der Instanz i als Parameter an die Methode \"widerstand\" "
   ]
  },
  {
   "cell_type": "markdown",
   "metadata": {},
   "source": [
    "## Klassen-Methoden und Klassen-Attribute\n",
    "\n",
    "Es gibt Eigenschaften und Methoden die in jeder Instanz gleich sind und deshalb auf Klassenebene definiert werden. So hat jeder Kondensator zwei Anschlüsse und eine Methode zur Ausgabe der Art des Bauteils, gibt immer 'Kondensator' und nicht ab und zu 'Spule' aus. Eine Klassen-Methode wird mit dem Dekorateur <tt>@staticmethod</tt> eingeleitet und besitzt keinen <tt>self</tt> Parameter, weil er nicht an eine Instanz gebunden ist."
   ]
  },
  {
   "cell_type": "code",
   "execution_count": 7,
   "metadata": {},
   "outputs": [
    {
     "name": "stdout",
     "output_type": "stream",
     "text": [
      "Kondensator\n"
     ]
    }
   ],
   "source": [
    "class Kondensator:\n",
    "    \n",
    "    Anschluesse = 2\n",
    "\n",
    "    # Konstruktor\n",
    "    def __init__(self, kap):\n",
    "        self.__kapazitaet = kap             \n",
    "\n",
    "    # Methode\n",
    "    def widerstand(self, omega):\n",
    "        return 1/(omega*self.__kapazitaet)\n",
    "    \n",
    "    # Klassen-Methode\n",
    "    @staticmethod\n",
    "    def print_bauteil():         # hat kein 'self'\n",
    "        print(\"Kondensator\")\n",
    "        \n",
    "c = Kondensator(2e-9)\n",
    "Kondensator.print_bauteil()"
   ]
  },
  {
   "cell_type": "code",
   "execution_count": null,
   "metadata": {},
   "outputs": [],
   "source": []
  }
 ],
 "metadata": {
  "kernelspec": {
   "display_name": "Python 3",
   "language": "python",
   "name": "python3"
  },
  "language_info": {
   "codemirror_mode": {
    "name": "ipython",
    "version": 3
   },
   "file_extension": ".py",
   "mimetype": "text/x-python",
   "name": "python",
   "nbconvert_exporter": "python",
   "pygments_lexer": "ipython3",
   "version": "3.8.2"
  }
 },
 "nbformat": 4,
 "nbformat_minor": 4
}
